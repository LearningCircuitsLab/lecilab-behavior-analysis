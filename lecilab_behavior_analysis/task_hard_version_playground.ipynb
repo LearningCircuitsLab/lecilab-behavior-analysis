{
 "cells": [
  {
   "cell_type": "code",
   "execution_count": null,
   "metadata": {},
   "outputs": [],
   "source": [
    "import pandas as pd\n",
    "import lecilab_behavior_analysis.utils as utils\n",
    "import lecilab_behavior_analysis.plots as plots\n",
    "from pathlib import Path\n",
    "import numpy as np\n",
    "import matplotlib.pyplot as plt\n",
    "import lecilab_behavior_analysis.df_transforms as dft\n",
    "from sklearn.linear_model import LogisticRegression\n",
    "import seaborn as sns\n",
    "%load_ext autoreload\n",
    "%autoreload 2\n"
   ]
  },
  {
   "cell_type": "markdown",
   "metadata": {},
   "source": [
    "single mouse"
   ]
  },
  {
   "cell_type": "code",
   "execution_count": null,
   "metadata": {},
   "outputs": [],
   "source": [
    "# load data from cluster\n",
    "tv_projects = utils.get_server_projects()\n",
    "print(tv_projects)\n",
    "# see the available animals\n",
    "animals = utils.get_animals_in_project(tv_projects[1])\n",
    "print(animals)\n",
    "# download the data for a specific animal\n",
    "mouse = \"ACV007\"\n",
    "local_path = Path(utils.get_outpath()) / Path(tv_projects[1]) / Path(\"sessions\") / Path(mouse)\n",
    "# create the directory if it doesn't exist\n",
    "local_path.mkdir(parents=True, exist_ok=True)\n",
    "# download the session data\n",
    "utils.rsync_session_data(\n",
    "    project_name=tv_projects[1],\n",
    "    animal=mouse,\n",
    "    local_path=str(local_path),\n",
    "    credentials=utils.get_idibaps_cluster_credentials(),\n",
    ")\n",
    "# load the data\n",
    "df = pd.read_csv(local_path / Path(f'{mouse}.csv'), sep=\";\")"
   ]
  },
  {
   "cell_type": "code",
   "execution_count": null,
   "metadata": {},
   "outputs": [],
   "source": [
    "# reduce the dataset to the psychometric version of the task\n",
    "# Otherwise, we would include a lot of \"easy\" trials that would bias the fit\n",
    "df_test = df[df[\"current_training_stage\"] == \"TwoAFC_visual_hard\"]"
   ]
  },
  {
   "cell_type": "markdown",
   "metadata": {},
   "source": [
    "psychometric curve "
   ]
  },
  {
   "cell_type": "code",
   "execution_count": null,
   "metadata": {},
   "outputs": [],
   "source": [
    "df_test = dft.get_performance_by_difficulty_ratio(df_test)\n",
    "plots.psychometric_plot_by_discreVal(df_test, x = 'visual_stimulus_ratio', y = 'left_choice')\n"
   ]
  },
  {
   "cell_type": "code",
   "execution_count": null,
   "metadata": {},
   "outputs": [],
   "source": [
    "df_test = dft.get_performance_by_difficulty_diff(df_test)\n",
    "plots.psychometric_plot_by_continuVal(df_test, x = 'visual_stimulus_diff', y = 'left_choice')"
   ]
  },
  {
   "cell_type": "markdown",
   "metadata": {},
   "source": [
    "GLM comparation"
   ]
  },
  {
   "cell_type": "markdown",
   "metadata": {},
   "source": [
    "the following cell can be use to evaluate the model. It will be useful when comparing different models"
   ]
  },
  {
   "cell_type": "code",
   "execution_count": null,
   "metadata": {},
   "outputs": [],
   "source": [
    "from sklearn.model_selection import KFold\n",
    "from sklearn.metrics import log_loss\n",
    "from scipy.optimize import minimize\n",
    "import numpy as np\n",
    "\n",
    "# Define the lapse logistic function with independent lapses for left and right\n",
    "def lapse_logistic_independent(params, x, y):\n",
    "    lapse_left, lapse_right, beta, x0 = params\n",
    "    # Ensure lapse rates are within [0, 0.5]\n",
    "    lapse_left = np.clip(lapse_left, 0, 0.5)\n",
    "    lapse_right = np.clip(lapse_right, 0, 0.5)\n",
    "    # Predicted probabilities\n",
    "    p_left = lapse_left + (1 - lapse_left - lapse_right) / (1 + np.exp(-beta * (x - x0)))\n",
    "    # Negative log-likelihood\n",
    "    nll = -np.sum(y * np.log(p_left) + (1 - y) * np.log(1 - p_left))\n",
    "    return nll\n",
    "\n",
    "# Cross-validation setup\n",
    "kf = KFold(n_splits=5, shuffle=True, random_state=42)  # 5-fold cross-validation\n",
    "log_losses = []\n",
    "\n",
    "# Perform cross-validation\n",
    "for train_index, test_index in kf.split(df_test):\n",
    "    # Split the data\n",
    "    x_train, x_test = df_test['visual_stimulus_ratio'].values[train_index], df_test['visual_stimulus_ratio'].values[test_index]\n",
    "    y_train, y_test = df_test['left_choice'].values[train_index], df_test['left_choice'].values[test_index]\n",
    "    \n",
    "    # Initial parameter guesses: [lapse_left, lapse_right, beta, x0]\n",
    "    initial_params = [0.05, 0.05, 1, 0]\n",
    "    \n",
    "    # Fit the model on the training data\n",
    "    result = minimize(\n",
    "        lapse_logistic_independent,\n",
    "        initial_params,\n",
    "        args=(x_train, y_train),\n",
    "        bounds=[(0, 0.5), (0, 0.5), (None, None), (None, None)]\n",
    "    )\n",
    "    \n",
    "    # Extract fitted parameters\n",
    "    lapse_left, lapse_right, beta, x0 = result.x\n",
    "    \n",
    "    # Generate predictions on the test data\n",
    "    p_left_test = lapse_left + (1 - lapse_left - lapse_right) / (1 + np.exp(-beta * (x_test - x0)))\n",
    "    \n",
    "    # Calculate log loss for the test data\n",
    "    loss = log_loss(y_test, p_left_test)\n",
    "    log_losses.append(loss)\n",
    "\n",
    "# Print cross-validation results\n",
    "print(f\"Cross-Validation Log Losses: {log_losses}\")\n",
    "print(f\"Mean Log Loss: {np.mean(log_losses)}\")\n",
    "print(f\"Standard ratio of Log Loss: {np.std(log_losses)}\")"
   ]
  },
  {
   "cell_type": "markdown",
   "metadata": {},
   "source": [
    "weight and stats for the different predictors:\n",
    "- visual stimulus ratio (you call it deviation)\n",
    "- visual stimulus diff. Nuo: change to \"total intensity on left port\"\n",
    "- port where the animal is coming from\n",
    "- interactions\n",
    "- Nuo: add another regressor: the previous correct choice\n",
    "\n",
    "We can play around with this things"
   ]
  },
  {
   "cell_type": "code",
   "execution_count": null,
   "metadata": {},
   "outputs": [],
   "source": [
    "df_new_for_fit = dft.parameters_for_fit(df_test)\n",
    "results = utils.logi_model_fit(df_new_for_fit, X = ['abs_visual_stimulus_ratio',\n",
    "                      'previous_port_before_stimulus_numeric',\n",
    "                      'visual_ratio_diff_interact',\n",
    "                      'previous_choice_left_correct',\n",
    "                      'previous_choice_right_wrong',\n",
    "                      'previous_choice_left', \n",
    "                      'visual_ratio_bright_interact'\n",
    "                          ], y = 'left_choice')"
   ]
  },
  {
   "cell_type": "markdown",
   "metadata": {},
   "source": [
    "correct choice as output"
   ]
  },
  {
   "cell_type": "code",
   "execution_count": null,
   "metadata": {},
   "outputs": [],
   "source": [
    "df_new_for_fit = dft.parameters_for_fit(df_test)\n",
    "results = utils.logi_model_fit(df_new_for_fit, X = ['abs_visual_stimulus_ratio',\n",
    "                                                    'wrong_bright', \n",
    "                                                    # 'wrong_bright_zscore',\n",
    "                                                    'same_choice_correctPre', \n",
    "                                                    # 'diff_choice_wrongPre', \n",
    "                                                    'same_choice_previous', \n",
    "                                                    'previous_correct', \n",
    "                                                    # 'previous_choice_same_correct'\n",
    "                                                    ], y = 'correct_numeric')\n",
    "print(results) "
   ]
  },
  {
   "cell_type": "markdown",
   "metadata": {},
   "source": [
    "Correct wrong psychometric curve"
   ]
  },
  {
   "cell_type": "code",
   "execution_count": null,
   "metadata": {},
   "outputs": [],
   "source": [
    "fig, ax = plt.subplots(1, 2, figsize=(10, 5))\n",
    "for i, linecolor in zip(df_test[df_test['previous_choice'] == 'left'].groupby('previous_correct'), ['red', 'green']):\n",
    "    plots.psychometric_plot_by_discreVal(df = i[1], \n",
    "                                         x = 'visual_stimulus_ratio', \n",
    "                                         y = 'left_choice', \n",
    "                                         ax=ax[0],\n",
    "                                         markercolor='k',\n",
    "                                         markers='o',\n",
    "                                         errorbar=(\"ci\", 95),\n",
    "                                         markerlabel=None,\n",
    "                                         markersize=5, \n",
    "                                         linecolor=linecolor, \n",
    "                                         linelabel='previous ' + str(i[0])\n",
    "                                        )\n",
    "\n",
    "for i, linecolor in zip(df_test[df_test['previous_choice'] == 'right'].groupby('previous_correct'), ['red', 'green']):\n",
    "    plots.psychometric_plot_by_discreVal(df = i[1], \n",
    "                                         x = 'visual_stimulus_ratio', \n",
    "                                         y = 'left_choice', \n",
    "                                         ax=ax[1],\n",
    "                                         markercolor='k',\n",
    "                                         markers='o',\n",
    "                                         errorbar=(\"ci\", 95),\n",
    "                                         markerlabel=None,\n",
    "                                         markersize=5, \n",
    "                                         linecolor=linecolor, \n",
    "                                         linelabel='previous ' + str(i[0])\n",
    "                                        )\n",
    "ax[0].legend()\n",
    "ax[0].set_title(\"Left Choice Previous\")\n",
    "ax[1].legend()\n",
    "ax[1].set_title(\"Right Choice Previous\")"
   ]
  },
  {
   "cell_type": "code",
   "execution_count": null,
   "metadata": {},
   "outputs": [],
   "source": [
    "fig, ax = plt.subplots(1, 2, figsize=(10, 5))\n",
    "for i, linecolor in zip(df_test[df_test['previous_correct'] == True].groupby('previous_choice'), ['gold', 'lightskyblue']):\n",
    "    plots.psychometric_plot_by_discreVal(df = i[1], \n",
    "                                         x = 'visual_stimulus_ratio', \n",
    "                                         y = 'left_choice', \n",
    "                                         ax=ax[0],\n",
    "                                         markercolor='k',\n",
    "                                         markers='o',\n",
    "                                         errorbar=(\"ci\", 95),\n",
    "                                         markerlabel=None,\n",
    "                                         markersize=5, \n",
    "                                         linecolor=linecolor, \n",
    "                                         linelabel='previous ' + str(i[0])\n",
    "                                        )\n",
    "\n",
    "for i, linecolor in zip(df_test[df_test['previous_correct'] == False].groupby('previous_choice'), ['gold', 'lightskyblue']):\n",
    "    plots.psychometric_plot_by_discreVal(df = i[1], \n",
    "                                         x = 'visual_stimulus_ratio', \n",
    "                                         y = 'left_choice', \n",
    "                                         ax=ax[1],\n",
    "                                         markercolor='k',\n",
    "                                         markers='o',\n",
    "                                         errorbar=(\"ci\", 95),\n",
    "                                         markerlabel=None,\n",
    "                                         markersize=5, \n",
    "                                         linecolor=linecolor, \n",
    "                                         linelabel='previous ' + str(i[0])\n",
    "                                        )\n",
    "ax[0].legend()\n",
    "ax[0].set_title(\"Correct Choice Previous\")\n",
    "ax[1].legend()\n",
    "ax[1].set_title(\"Incorrect Choice Previous\")"
   ]
  },
  {
   "cell_type": "markdown",
   "metadata": {},
   "source": [
    "Matrix format"
   ]
  },
  {
   "cell_type": "code",
   "execution_count": null,
   "metadata": {},
   "outputs": [],
   "source": [
    "# let's use the absolute value of the lowest visual stimulus as a proxy for the brightness of the visual stimulus\n",
    "df_test['visual_stimulus_lowest'] = df_test['visual_stimulus'].apply(lambda x: abs(eval(x)[0]) if eval(x)[0] < eval(x)[1] else abs(eval(x)[1]))\n",
    "# create 10 bins for the absolute value of the lowest visual stimulus\n",
    "min_value = df_test['visual_stimulus_lowest'].min()\n",
    "max_value = df_test['visual_stimulus_lowest'].max()\n",
    "bins = np.linspace(min_value, max_value, 11)\n",
    "df_test['visual_stimulus_lowest_binned'] = pd.cut(df_test['visual_stimulus_lowest'], bins=bins, labels=[f\"{b:.2f}\" for b in bins[:-1]])\n",
    "# create a pivot table with the visual stimulus ratio and absolute value of the lowest visual stimulus\n",
    "pivot_table_abs = df_test.pivot_table(\n",
    "    index='visual_stimulus_lowest_binned',\n",
    "    columns='visual_stimulus_ratio',\n",
    "    values='left_choice',\n",
    "    aggfunc='mean',\n",
    "    observed=True\n",
    ")\n",
    "# plot the heatmap\n",
    "plt.figure(figsize=(5, 5))\n",
    "sns.heatmap(pivot_table_abs, cmap='coolwarm', annot=True, fmt=\".2f\", cbar_kws={'label': 'Probability of Left Choice'})\n",
    "plt.xlabel(\"Visual Stimulus ratio\")\n",
    "plt.ylabel(\"Absolute Value of Lowest Visual Stimulus\")\n",
    "plt.title(\"Heatmap of Probability of Left Choice\")\n",
    "# rotate the y-axis labels\n",
    "plt.yticks(rotation=0)\n",
    "plt.xticks(rotation=45, ha='right')\n",
    "plt.show()"
   ]
  },
  {
   "cell_type": "code",
   "execution_count": null,
   "metadata": {},
   "outputs": [],
   "source": [
    "# transform visual_stimulus_lowest_binned to a numeric value for plotting\n",
    "df_test['visual_stimulus_lowest_binned_num'] = pd.to_numeric(df_test['visual_stimulus_lowest_binned'], errors='coerce')\n",
    "\n",
    "# make two plots, one for when the animals comes from the left and one for when it comes from the right\n",
    "fig, axs = plt.subplots(1, 2, figsize=(12, 5), sharey=True)\n",
    "# Plot for when the animal comes from the left\n",
    "for ax, side in zip(axs.ravel(), ['left', 'right']):\n",
    "    df_side = df_test[df_test['previous_port_before_stimulus'] == side]\n",
    "    for i in df_side.groupby('visual_stimulus_ratio'):\n",
    "        df_i = i[1].sort_values(by='visual_stimulus_lowest_binned_num')\n",
    "        # drop nan\n",
    "        df_i = df_i.dropna(subset=['visual_stimulus_lowest_binned_num'])\n",
    "        X = df_i['visual_stimulus_lowest_binned_num'].values.reshape(-1, 1)\n",
    "        y = df_i['left_choice'].values.astype(int)\n",
    "        model = LogisticRegression()\n",
    "        model.fit(X, y)\n",
    "        y_pred = model.predict(X)\n",
    "        y_prob = model.predict_proba(X)[:, 1]\n",
    "        ax.plot(X, y_prob, label=f\"Visual Stimulus ratio: {i[0]}\")\n",
    "    ax.set_xlabel(\"Absolute Value of Lowest Visual Stimulus\")\n",
    "    ax.set_ylabel(\"Probability of Left Choice\")\n",
    "    ax.legend()\n",
    "    ax.set_title(f\"Last Choice Before Stimulus: {side.capitalize()}\")\n",
    "plt.show()"
   ]
  },
  {
   "cell_type": "markdown",
   "metadata": {},
   "source": [
    "Fit the lapse model independently considering previous choices"
   ]
  },
  {
   "cell_type": "code",
   "execution_count": null,
   "metadata": {},
   "outputs": [],
   "source": [
    "fig, ax = plt.subplots(1, 1, figsize=(5, 5))\n",
    "\n",
    "colors = [\"blue\", \"orange\"]\n",
    "\n",
    "for color, side in zip(colors, ['left', 'right']):\n",
    "    df_side = df_test[df_test['previous_port_before_stimulus'] == side]\n",
    "    # Fit the model\n",
    "    x = df_side['visual_stimulus_ratio'].values\n",
    "    y = df_side['left_choice'].values\n",
    "    result = minimize(\n",
    "        lapse_logistic_independent,\n",
    "        initial_params,\n",
    "        args=(x, y),\n",
    "        bounds=[(0, 0.5), (0, 0.5), (None, None), (None, None)]\n",
    "    )\n",
    "\n",
    "    # Extract fitted parameters\n",
    "    lapse_left, lapse_right, beta, x0 = result.x\n",
    "    print(f\"Side: {side}, Lapse Left: {lapse_left}, Lapse Right: {lapse_right}, Slope (Beta): {beta}, PSE (x0): {x0}\")\n",
    "\n",
    "    # Generate predictions\n",
    "    xs = np.linspace(df_side['visual_stimulus_ratio'].min(), df_side['visual_stimulus_ratio'].max(), 100)\n",
    "    p_left = lapse_left + (1 - lapse_left - lapse_right) / (1 + np.exp(-beta * (xs - x0)))\n",
    "\n",
    "    # Plot the fitted curve\n",
    "\n",
    "    sns.pointplot(\n",
    "        x='visual_stimulus_ratio',\n",
    "        y='left_choice',\n",
    "        data=df_side,\n",
    "        estimator=lambda x: np.mean(x),\n",
    "        color=color,\n",
    "        markers='o',\n",
    "        errorbar=(\"ci\", 95),\n",
    "        ax=ax,\n",
    "        label=f'Choices when coming from {side}',\n",
    "        native_scale=True,\n",
    "        linestyles='',\n",
    "    )\n",
    "    ax.plot(xs, p_left, color=color, label='Lapse Logistic Fit')\n",
    "    ax.set_xlabel(\"Visual Stimulus ratio\")\n",
    "    ax.set_ylabel(\"Probability of Left Choice\")\n",
    "    plt.title(f\"Psychometric Curves\")\n",
    "    ax.legend()\n",
    "plt.show()"
   ]
  },
  {
   "cell_type": "markdown",
   "metadata": {},
   "source": [
    "I kept what you did for comparison here"
   ]
  },
  {
   "cell_type": "code",
   "execution_count": null,
   "metadata": {},
   "outputs": [],
   "source": [
    "# It is interesting to compare the effects of the relative difference between the two visual stimuli,\n",
    "# and the absolute difference between them.\n",
    "\n",
    "# Maybe what we can do is to train another logistic regression model, adding as well the absolute difference\n",
    "# between the two visual stimuli, and see how it affects the probability of a left choice.\n",
    "# Do you know what I mean?\n",
    "\n",
    "for i in df_test.groupby('visual_stimulus_ratio'):\n",
    "    df_i = i[1].sort_values(by='visual_stimulus_diff')\n",
    "    X = df_i['visual_stimulus_diff'].values.reshape(-1, 1)\n",
    "    y = df_i['left_choice'].values.astype(int)\n",
    "    model = LogisticRegression()\n",
    "    model.fit(X, y)\n",
    "    y_pred = model.predict(X)\n",
    "    y_prob = model.predict_proba(X)[:, 1]\n",
    "    plt.plot(X, y_prob, label=f\"Visual Stimulus ratio: {i[0]}\")\n",
    "    plt.legend()\n",
    "plt.xlabel(\"Visual Stimulus Difference\")\n",
    "plt.ylabel(\"Probability of Left Choice\")\n",
    "plt.show()"
   ]
  },
  {
   "cell_type": "markdown",
   "metadata": {},
   "source": [
    "Multiple animals analysis\n"
   ]
  },
  {
   "cell_type": "code",
   "execution_count": null,
   "metadata": {},
   "outputs": [],
   "source": [
    "df_dic = {}\n",
    "for mouse in animals:\n",
    "    local_path = Path(utils.get_outpath()) / Path(tv_projects[1]) / Path(\"sessions\") / Path(mouse)\n",
    "    # create the directory if it doesn't exist\n",
    "    local_path.mkdir(parents=True, exist_ok=True)\n",
    "    # download the session data\n",
    "    utils.rsync_session_data(\n",
    "        project_name=tv_projects[1],\n",
    "        animal=mouse,\n",
    "        local_path=str(local_path),\n",
    "        credentials=utils.get_idibaps_cluster_credentials(),\n",
    "    )\n",
    "    # load the data\n",
    "    df_dic[mouse] = pd.read_csv(local_path / Path(f'{mouse}.csv'), sep=\";\")"
   ]
  },
  {
   "cell_type": "code",
   "execution_count": null,
   "metadata": {},
   "outputs": [],
   "source": [
    "df_dic_hard = {}\n",
    "for df_name, df in zip(df_dic.keys(), df_dic.values()):\n",
    "    if 'TwoAFC_visual_hard' in df[\"current_training_stage\"].unique():\n",
    "        df = df.dropna(subset = ['visual_stimulus'])\n",
    "        df = df[df[\"current_training_stage\"] == \"TwoAFC_visual_hard\"]\n",
    "\n",
    "        df['visual_stimulus_ratio'] = df['visual_stimulus'].apply(lambda x: abs(round(eval(x)[0] / eval(x)[1], 4)))\n",
    "        df['visual_stimulus_ratio'] = df.apply(\n",
    "            lambda row: row['visual_stimulus_ratio'] if row['correct_side'] == 'left' else -row['visual_stimulus_ratio'],\n",
    "            axis=1\n",
    "        )\n",
    "        df['visual_stimulus_diff'] = df['visual_stimulus'].apply(lambda x: abs(eval(x)[0] - eval(x)[1]))\n",
    "        df['visual_stimulus_diff'] = df.apply(\n",
    "            lambda row: row['visual_stimulus_diff'] if row['correct_side'] == 'left' else -row['visual_stimulus_diff'],\n",
    "            axis=1\n",
    "        )\n",
    "        df[\"visual_stimulus_diff_binned\"] = df['visual_stimulus_diff'] // 0.1\n",
    "        df = dft.add_mouse_first_choice(df)\n",
    "        df['left_choice'] = df['first_choice'].apply(lambda x: 1 if x == 'left' else 0)\n",
    "        \n",
    "        df_dic_hard[df_name] = df"
   ]
  },
  {
   "cell_type": "code",
   "execution_count": null,
   "metadata": {},
   "outputs": [],
   "source": [
    "df_ratio_diffBin_inter_p = pd.DataFrame()\n",
    "df_ratio_diffBin_inter_coef = pd.DataFrame()\n",
    "for df_name, df in zip(df_dic_hard.keys(), df_dic_hard.values()):\n",
    "    df['interaction_term'] = df.apply(interaction_calc, axis=1)\n",
    "    # Prepare the independent variables\n",
    "    X_multi = df[['visual_stimulus_ratio', 'visual_stimulus_diff_binned', 'interaction_term']]\n",
    "    X_multi_const = sm.add_constant(X_multi)\n",
    "    y = df['left_choice'].values.astype(int)\n",
    "\n",
    "    # Fit the logistic regression model with multiple regressors\n",
    "    logit_model_multi = sm.Logit(y, X_multi_const).fit()\n",
    "\n",
    "    df_ratio_diffBin_inter_p[df_name] = logit_model_multi.pvalues\n",
    "    df_ratio_diffBin_inter_coef[df_name] = logit_model_multi.params"
   ]
  },
  {
   "cell_type": "code",
   "execution_count": null,
   "metadata": {},
   "outputs": [],
   "source": [
    "df_ratio_diff_inter_p = pd.DataFrame()\n",
    "df_ratio_diff_inter_coef = pd.DataFrame()\n",
    "for df_name, df in zip(df_dic_hard.keys(), df_dic_hard.values()):\n",
    "    df['interaction_term'] = df.apply(interaction_calc, axis=1)\n",
    "    # Prepare the independent variables\n",
    "    X_multi = df[['visual_stimulus_ratio', 'visual_stimulus_diff', 'interaction_term']]\n",
    "    X_multi_const = sm.add_constant(X_multi)\n",
    "    y = df['left_choice'].values.astype(int)\n",
    "\n",
    "    # Fit the logistic regression model with multiple regressors\n",
    "    logit_model_multi = sm.Logit(y, X_multi_const).fit()\n",
    "\n",
    "    df_ratio_diff_inter_p[df_name] = logit_model_multi.pvalues\n",
    "    df_ratio_diff_inter_coef[df_name] = logit_model_multi.params"
   ]
  },
  {
   "cell_type": "code",
   "execution_count": null,
   "metadata": {},
   "outputs": [],
   "source": [
    "df_ratio_diffBin_inter_p.rename(index={'visual_stimulus_ratio': 'ratio', 'visual_stimulus_diff_binned': 'diff', 'interaction_term': 'inter'}, inplace=True)\n",
    "df_ratio_diff_inter_p.rename(index={'visual_stimulus_ratio': 'ratio', 'visual_stimulus_diff': 'diff', 'interaction_term': 'inter'}, inplace=True)\n",
    "for df_name, color in zip(df_dic_hard.keys(), sns.color_palette(\"colorblind\", len(df_dic_hard))):\n",
    "    plt.plot (df_ratio_diff_inter_p[df_name], label=df_name+ 'ratio_diff_inter', color=color)\n",
    "    plt.plot (df_ratio_diffBin_inter_p[df_name], label=df_name+ 'ratio_diffBin_inter', color=color, linestyle='--')\n",
    "plt.axhline(y=0.05, color='k', linestyle='--', label='p-value threshold')\n",
    "plt.xlabel(\"Regressors\")\n",
    "plt.ylabel(\"p-value\")\n",
    "plt.legend(loc = (1 , 0))"
   ]
  },
  {
   "cell_type": "code",
   "execution_count": null,
   "metadata": {},
   "outputs": [],
   "source": [
    "df_ratio_diffBin_inter_coef.rename(index={'visual_stimulus_ratio': 'ratio', 'visual_stimulus_diff_binned': 'diff', 'interaction_term': 'inter'}, inplace=True)\n",
    "df_ratio_diff_inter_coef.rename(index={'visual_stimulus_ratio': 'ratio', 'visual_stimulus_diff': 'diff', 'interaction_term': 'inter'}, inplace=True)\n",
    "for df_name, color in zip(df_dic_hard.keys(), sns.color_palette(\"colorblind\", len(df_dic_hard))):\n",
    "    plt.plot (df_ratio_diff_inter_coef[df_name], label=df_name+ 'ratio_diff_inter', color=color)\n",
    "    plt.plot (df_ratio_diffBin_inter_coef[df_name], label=df_name+ 'ratio_diffBin_inter', color=color, linestyle='--')\n",
    "plt.xlabel(\"Regressors\")\n",
    "plt.ylabel(\"Coefficient\")\n",
    "plt.legend(loc = (1 , 0))"
   ]
  },
  {
   "cell_type": "code",
   "execution_count": null,
   "metadata": {},
   "outputs": [],
   "source": []
  }
 ],
 "metadata": {
  "kernelspec": {
   "display_name": "kudongdong",
   "language": "python",
   "name": "python3"
  },
  "language_info": {
   "codemirror_mode": {
    "name": "ipython",
    "version": 3
   },
   "file_extension": ".py",
   "mimetype": "text/x-python",
   "name": "python",
   "nbconvert_exporter": "python",
   "pygments_lexer": "ipython3",
   "version": "3.13.3"
  }
 },
 "nbformat": 4,
 "nbformat_minor": 2
}
