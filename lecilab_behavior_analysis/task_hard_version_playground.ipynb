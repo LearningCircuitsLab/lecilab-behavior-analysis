{
 "cells": [
  {
   "cell_type": "code",
   "execution_count": null,
   "metadata": {},
   "outputs": [],
   "source": [
    "import pandas as pd\n",
    "import lecilab_behavior_analysis.utils as utils\n",
    "import lecilab_behavior_analysis.plots as plots\n",
    "from pathlib import Path\n",
    "import numpy as np\n",
    "import matplotlib.pyplot as plt\n",
    "import lecilab_behavior_analysis.df_transforms as dft\n",
    "from sklearn.linear_model import LogisticRegression\n",
    "import seaborn as sns\n",
    "import statsmodels.api as sm\n",
    "from matplotlib.colors import LinearSegmentedColormap\n",
    "%load_ext autoreload\n",
    "%autoreload 2\n"
   ]
  },
  {
   "cell_type": "code",
   "execution_count": null,
   "metadata": {},
   "outputs": [],
   "source": [
    "import warnings\n",
    "warnings.filterwarnings('ignore')\n"
   ]
  },
  {
   "cell_type": "markdown",
   "metadata": {},
   "source": [
    "# Data Import"
   ]
  },
  {
   "cell_type": "code",
   "execution_count": null,
   "metadata": {},
   "outputs": [],
   "source": [
    "# load data from cluster\n",
    "tv_projects = utils.get_server_projects()\n",
    "print(tv_projects)"
   ]
  },
  {
   "cell_type": "code",
   "execution_count": null,
   "metadata": {},
   "outputs": [],
   "source": [
    "project = \"visual_and_COT_data\""
   ]
  },
  {
   "cell_type": "markdown",
   "metadata": {},
   "source": [
    "## single mouse data import"
   ]
  },
  {
   "cell_type": "code",
   "execution_count": null,
   "metadata": {},
   "outputs": [],
   "source": [
    "# see the available animals\n",
    "animals = utils.get_animals_in_project(project)\n",
    "print(animals)\n",
    "# download the data for a specific animal\n",
    "mouse = \"ACV008\"\n",
    "local_path = Path(utils.get_outpath()) / Path(project) / Path(\"sessions\") / Path(mouse)\n",
    "# create the directory if it doesn't exist\n",
    "local_path.mkdir(parents=True, exist_ok=True)\n",
    "# download the session data\n",
    "utils.rsync_cluster_data(\n",
    "    project_name=project,\n",
    "    file_path=\"sessions/{}/{}.csv\".format(mouse, mouse),\n",
    "    local_path=str(local_path),\n",
    "    credentials=utils.get_idibaps_cluster_credentials(),\n",
    ")\n",
    "# load the data\n",
    "df = pd.read_csv(local_path / Path(f'{mouse}.csv'), sep=\";\")"
   ]
  },
  {
   "cell_type": "markdown",
   "metadata": {},
   "source": [
    "## multiple mice data import"
   ]
  },
  {
   "cell_type": "code",
   "execution_count": null,
   "metadata": {},
   "outputs": [],
   "source": [
    "# run this if you want to pull data from several animals\n",
    "acv_animals = [f\"ACV{str(i).zfill(3)}\" for i in range(1, 11)]\n",
    "\n",
    "df_dic = {}\n",
    "for mouse in acv_animals:\n",
    "    local_path = Path(utils.get_outpath()) / Path(project) / Path(\"sessions\") / Path(mouse)\n",
    "    # create the directory if it doesn't exist\n",
    "    local_path.mkdir(parents=True, exist_ok=True)\n",
    "    # download the session data\n",
    "    utils.rsync_cluster_data(\n",
    "        project_name=project,\n",
    "        file_path=\"sessions/{}/{}.csv\".format(mouse, mouse),\n",
    "        local_path=str(local_path),\n",
    "        credentials=utils.get_idibaps_cluster_credentials(),\n",
    "    )\n",
    "    # load the data\n",
    "    df_single = pd.read_csv(local_path / Path(f'{mouse}.csv'), sep=\";\")\n",
    "    df_dic[mouse] = df_single\n"
   ]
  },
  {
   "cell_type": "code",
   "execution_count": null,
   "metadata": {},
   "outputs": [],
   "source": [
    "df_dic_hard_vis = {}\n",
    "df_dic_hard_aud = {}\n",
    "df_test_visual = pd.DataFrame()\n",
    "df_test_auditory = pd.DataFrame()\n",
    "for mouse in df_dic:\n",
    "    df_dic[mouse] = dft.analyze_df(df_dic[mouse])\n",
    "    df_dic_hard_vis[mouse] = df_dic[mouse][df_dic[mouse][\"current_training_stage\"] == \"TwoAFC_visual_hard\"]\n",
    "    df_dic_hard_vis[mouse] = dft.parameters_for_fit(df_dic_hard_vis[mouse])\n",
    "    df_test_visual = pd.concat([df_test_visual, df_dic_hard_vis[mouse]], ignore_index=True)\n",
    "    df_dic_hard_aud[mouse] = df_dic[mouse][df_dic[mouse][\"current_training_stage\"] == \"TwoAFC_auditory_hard\"]\n",
    "    df_dic_hard_aud[mouse] = dft.parameters_for_fit(df_dic_hard_aud[mouse])\n",
    "    df_test_auditory = pd.concat([df_test_auditory, df_dic_hard_aud[mouse]], ignore_index=True)"
   ]
  },
  {
   "cell_type": "markdown",
   "metadata": {},
   "source": [
    "# psychometric curve test"
   ]
  },
  {
   "cell_type": "code",
   "execution_count": null,
   "metadata": {},
   "outputs": [],
   "source": [
    "plt.figure(figsize=(8, 8))\n",
    "for df_name, df, color in zip(df_dic_hard_vis.keys(), df_dic_hard_vis.values(), sns.color_palette(\"colorblind\", len(df_dic_hard_vis))):\n",
    "    plots.psychometric_plot(df, x='visual_stimulus_ratio', y='first_choice_numeric', point_kwargs={'color': color, 'label' : '', 'alpha': 0.3}, line_kwargs={'color': color, 'label': df_name, 'alpha': 0.3})\n",
    "plots.psychometric_plot(df_test_visual, x = 'visual_stimulus_ratio', y = 'first_choice_numeric', point_kwargs={'color': 'black', 'label' : ''}, line_kwargs={'color': 'black', 'label': 'All mice'})\n",
    "plt.show()"
   ]
  },
  {
   "cell_type": "code",
   "execution_count": null,
   "metadata": {},
   "outputs": [],
   "source": [
    "plt.figure(figsize=(8, 8))\n",
    "for df_name, df, color in zip(df_dic_hard_vis.keys(), df_dic_hard_vis.values(), sns.color_palette(\"colorblind\", len(df_dic_hard_vis))):\n",
    "    plots.psychometric_plot(df, x='abs_visual_stimulus_ratio', y='correct_numeric', point_kwargs={'color': color, 'label' : '', 'alpha': 0.3}, line_kwargs={'color': color, 'label': df_name, 'alpha': 0.3})\n",
    "plots.psychometric_plot(df_test_visual, x = 'abs_visual_stimulus_ratio', y = 'correct_numeric', point_kwargs={'color': 'black', 'label' : ''}, line_kwargs={'color': 'black', 'label': 'All mice'})\n",
    "plt.show()"
   ]
  },
  {
   "cell_type": "code",
   "execution_count": null,
   "metadata": {},
   "outputs": [],
   "source": [
    "plt.figure(figsize=(8, 8))\n",
    "for df_name, df, color in zip(df_dic_hard_aud.keys(), df_dic_hard_aud.values(), sns.color_palette(\"colorblind\", len(df_dic_hard_aud))):\n",
    "    plots.psychometric_plot(df, x='total_evidence_strength', y='first_choice_numeric', valueType='continue', point_kwargs={'color': color, 'label' : '', 'alpha': 0.3}, line_kwargs={'color': color, 'label': df_name, 'alpha': 0.3})\n",
    "plots.psychometric_plot(df_test_auditory, x = 'total_evidence_strength', y = 'first_choice_numeric', valueType='continue', point_kwargs={'color': 'black', 'label' : ''}, line_kwargs={'color': 'black', 'label': 'All mice'})\n",
    "plt.show()"
   ]
  },
  {
   "cell_type": "code",
   "execution_count": null,
   "metadata": {},
   "outputs": [],
   "source": [
    "plt.figure(figsize=(8, 8))\n",
    "for df_name, df, color in zip(df_dic_hard_aud.keys(), df_dic_hard_aud.values(), sns.color_palette(\"colorblind\", len(df_dic_hard_aud))):\n",
    "    plots.psychometric_plot(df, x='abs_total_evidence_strength', y='correct_numeric', valueType='continue', bins=3, point_kwargs={'color': color, 'label' : '', 'alpha': 0.3}, line_kwargs={'color': color, 'label': df_name, 'alpha': 0.3})\n",
    "plots.psychometric_plot(df_test_auditory, x = 'abs_total_evidence_strength', y = 'correct_numeric', valueType='continue', bins=3, point_kwargs={'color': 'black', 'label' : ''}, line_kwargs={'color': 'black', 'label': 'All mice'})\n",
    "plt.show()"
   ]
  },
  {
   "cell_type": "code",
   "execution_count": null,
   "metadata": {},
   "outputs": [],
   "source": [
    "lapse_left_list_vis = []\n",
    "lapse_right_list_vis = []\n",
    "beta_list_vis = []\n",
    "x0_list_vis = []\n",
    "for mouse in df_dic_hard_vis:\n",
    "    y, params = utils.psychometric_curve_fitting_params(df_dic_hard_vis[mouse], x = 'visual_stimulus_ratio', y = 'first_choice_numeric')\n",
    "    (lapse_left, lapse_right, beta, x0) = params\n",
    "    lapse_left_list_vis.append(lapse_left)\n",
    "    lapse_right_list_vis.append(lapse_right)\n",
    "    beta_list_vis.append(beta)\n",
    "    x0_list_vis.append(x0)\n",
    "\n",
    "lapse_left_list_aud = []\n",
    "lapse_right_list_aud = []\n",
    "beta_list_aud = []\n",
    "x0_list_aud = []\n",
    "for mouse in df_dic_hard_aud:\n",
    "    y, params = utils.psychometric_curve_fitting_params(df_dic_hard_aud[mouse], x = 'abs_total_evidence_strength', y = 'correct_numeric', valueType='continue', bins=3)\n",
    "    (lapse_left, lapse_right, beta, x0) = params\n",
    "    lapse_left_list_aud.append(lapse_left)\n",
    "    lapse_right_list_aud.append(lapse_right)\n",
    "    beta_list_aud.append(beta)\n",
    "    x0_list_aud.append(x0)"
   ]
  },
  {
   "cell_type": "code",
   "execution_count": null,
   "metadata": {},
   "outputs": [],
   "source": [
    "params_vis = pd.DataFrame({\n",
    "            'lapse_left': lapse_left_list_vis,\n",
    "            'lapse_right': lapse_right_list_vis,\n",
    "            'beta': beta_list_vis,\n",
    "            'x0': x0_list_vis\n",
    "            })\n",
    "params_vis['condition'] = 'Visual'\n",
    "\n",
    "params_aud = pd.DataFrame({\n",
    "            'lapse_left': lapse_left_list_aud,\n",
    "            'lapse_right': lapse_right_list_aud,\n",
    "            'beta': beta_list_aud,\n",
    "            'x0': x0_list_aud\n",
    "            })\n",
    "params_aud['condition'] = 'Auditory'\n",
    "\n",
    "params_df = pd.concat([params_vis, params_aud], ignore_index=True)"
   ]
  },
  {
   "cell_type": "code",
   "execution_count": null,
   "metadata": {},
   "outputs": [],
   "source": [
    "plots.plot_param_comparison(\n",
    "    df=params_df,\n",
    "    params=['beta', 'x0', 'lapse_left', 'lapse_right'],\n",
    "    conditions=['Visual', 'Auditory'],\n",
    "    test='paired_t',\n",
    "    title='Psychometric Curve on Left Choice',\n",
    "    palette=[\"#D4361D\", \"#875215\"]\n",
    ")"
   ]
  },
  {
   "cell_type": "code",
   "execution_count": null,
   "metadata": {},
   "outputs": [],
   "source": [
    "lapse_hard_list_vis = []\n",
    "lapse_easy_list_vis = []\n",
    "beta_list_vis = []\n",
    "x0_list_vis = []\n",
    "for mouse in df_dic_hard_vis:\n",
    "    y, params = utils.psychometric_curve_fitting_params(df_dic_hard_vis[mouse], x = 'abs_visual_stimulus_ratio', y = 'correct_numeric')\n",
    "    (lapse_hard, lapse_easy, beta, x0) = params\n",
    "    lapse_hard_list_vis.append(lapse_hard)\n",
    "    lapse_easy_list_vis.append(lapse_easy)\n",
    "    beta_list_vis.append(beta)\n",
    "    x0_list_vis.append(x0)\n",
    "\n",
    "lapse_hard_list_aud = []\n",
    "lapse_easy_list_aud = []\n",
    "beta_list_aud = []\n",
    "x0_list_aud = []\n",
    "for mouse in df_dic_hard_aud:\n",
    "    y, params = utils.psychometric_curve_fitting_params(df_dic_hard_aud[mouse], x = 'abs_total_evidence_strength', y = 'correct_numeric', valueType='continue', bins=3)\n",
    "    (lapse_hard, lapse_easy, beta, x0) = params\n",
    "    lapse_hard_list_aud.append(lapse_hard)\n",
    "    lapse_easy_list_aud.append(lapse_easy)\n",
    "    beta_list_aud.append(beta)\n",
    "    x0_list_aud.append(x0)"
   ]
  },
  {
   "cell_type": "code",
   "execution_count": null,
   "metadata": {},
   "outputs": [],
   "source": [
    "params_vis = pd.DataFrame({\n",
    "            'lapse_hard': lapse_hard_list_vis,\n",
    "            'lapse_easy': lapse_easy_list_vis,\n",
    "            'beta': beta_list_vis,\n",
    "            'x0': x0_list_vis\n",
    "            })\n",
    "params_vis['condition'] = 'Visual'\n",
    "\n",
    "params_aud = pd.DataFrame({\n",
    "            'lapse_hard': lapse_hard_list_aud,\n",
    "            'lapse_easy': lapse_easy_list_aud,\n",
    "            'beta': beta_list_aud,\n",
    "            'x0': x0_list_aud\n",
    "            })\n",
    "params_aud['condition'] = 'Auditory'\n",
    "\n",
    "params_df = pd.concat([params_vis, params_aud], ignore_index=True)"
   ]
  },
  {
   "cell_type": "code",
   "execution_count": null,
   "metadata": {},
   "outputs": [],
   "source": [
    "plots.plot_param_comparison(\n",
    "    df=params_df,\n",
    "    params=['beta', 'x0', 'lapse_hard', 'lapse_easy'],\n",
    "    conditions=['Visual', 'Auditory'],\n",
    "    test='paired_t',\n",
    "    title='Psychometric Curve on Correct Choice',\n",
    "    palette=[\"#D4361D\", \"#875215\"]\n",
    ")"
   ]
  },
  {
   "cell_type": "markdown",
   "metadata": {},
   "source": [
    "# Correct wrong psychometric curve"
   ]
  },
  {
   "cell_type": "code",
   "execution_count": null,
   "metadata": {},
   "outputs": [],
   "source": [
    "fig, ax = plt.subplots(1, 2, figsize=(10, 5))\n",
    "for i, linecolor in zip(df_test_visual[df_test_visual['previous_port_before_stimulus'] == 'left'].groupby('previous_correct_numeric'), ['red', 'green']):\n",
    "    plots.psychometric_plot(i[1], x = 'visual_stimulus_ratio', y = 'first_choice_numeric',\n",
    "                            line_kwargs={'color': linecolor,\n",
    "                                         'label': 'True_previous' if i[0] == 1 else 'False_previous'}, \n",
    "                            point_kwargs={'color': 'black', 'label': None},\n",
    "                            ax=ax[0])\n",
    "\n",
    "for i, linecolor in zip(df_test_visual[df_test_visual['previous_port_before_stimulus'] == 'right'].groupby('previous_correct_numeric'), ['red', 'green']):\n",
    "    plots.psychometric_plot(i[1], x = 'visual_stimulus_ratio', y = 'first_choice_numeric',\n",
    "                            line_kwargs={'color': linecolor,\n",
    "                                         'label': 'True_previous' if i[0] == 1 else 'False_previous'}, \n",
    "                            point_kwargs={'color': 'black', 'label': None},\n",
    "                            ax=ax[1])\n",
    "ax[0].legend()\n",
    "ax[0].set_title(\"Left Choice Previous\")\n",
    "ax[1].legend()\n",
    "ax[1].set_title(\"Right Choice Previous\")"
   ]
  },
  {
   "cell_type": "code",
   "execution_count": null,
   "metadata": {},
   "outputs": [],
   "source": [
    "fig, ax = plt.subplots(1, 2, figsize=(10, 5))\n",
    "for i, linecolor in zip(df_test_auditory[df_test_auditory['previous_port_before_stimulus'] == 'left'].groupby('previous_correct_numeric'), ['red', 'green']):\n",
    "    plots.psychometric_plot(i[1], x = 'total_evidence_strength', y = 'first_choice_numeric', valueType='continue',\n",
    "                            line_kwargs={'color': linecolor,\n",
    "                                         'label': 'True_previous' if i[0] == 1 else 'False_previous'}, \n",
    "                            point_kwargs={'color': 'black', 'label': None},\n",
    "                            ax=ax[0])\n",
    "\n",
    "for i, linecolor in zip(df_test_auditory[df_test_auditory['previous_port_before_stimulus'] == 'right'].groupby('previous_correct_numeric'), ['red', 'green']):\n",
    "    plots.psychometric_plot(i[1], x = 'total_evidence_strength', y = 'first_choice_numeric', valueType='continue',\n",
    "                            line_kwargs={'color': linecolor,\n",
    "                                         'label': 'True_previous' if i[0] == 1 else 'False_previous'}, \n",
    "                            point_kwargs={'color': 'black', 'label': None},\n",
    "                            ax=ax[1])\n",
    "ax[0].legend()\n",
    "ax[0].set_title(\"Left Choice Previous\")\n",
    "ax[1].legend()\n",
    "ax[1].set_title(\"Right Choice Previous\")"
   ]
  },
  {
   "cell_type": "code",
   "execution_count": null,
   "metadata": {},
   "outputs": [],
   "source": [
    "fig, ax = plt.subplots(1, 2, figsize=(10, 5))\n",
    "for i, linecolor in zip(df_test_visual[df_test_visual['previous_correct_numeric'] == 1].groupby('previous_port_before_stimulus'), ['gold', 'lightskyblue']):\n",
    "    plots.psychometric_plot(df = i[1], x = 'visual_stimulus_ratio', y = 'first_choice_numeric', \n",
    "                            line_kwargs={'color': linecolor,\n",
    "                                         'label': 'Left_previous' if i[0] == 'left' else 'Right_previous'}, \n",
    "                            point_kwargs={'color': 'black', 'label': None},\n",
    "                            ax=ax[0])\n",
    "\n",
    "for i, linecolor in zip(df_test_visual[df_test_visual['previous_correct_numeric'] == 0].groupby('previous_port_before_stimulus'), ['gold', 'lightskyblue']):\n",
    "    plots.psychometric_plot(df = i[1], x = 'visual_stimulus_ratio', y = 'first_choice_numeric', \n",
    "                            line_kwargs={'color': linecolor,\n",
    "                                         'label': 'Left_previous' if i[0] == 'left' else 'Right_previous'}, \n",
    "                            point_kwargs={'color': 'black', 'label': None},\n",
    "                            ax=ax[1])\n",
    "ax[0].legend()\n",
    "ax[0].set_title(\"Correct Choice Previous\")\n",
    "ax[1].legend()\n",
    "ax[1].set_title(\"Incorrect Choice Previous\")"
   ]
  },
  {
   "cell_type": "code",
   "execution_count": null,
   "metadata": {},
   "outputs": [],
   "source": [
    "fig, ax = plt.subplots(1, 2, figsize=(10, 5))\n",
    "for i, linecolor in zip(df_test_auditory[df_test_auditory['previous_correct_numeric'] == 1].groupby('previous_port_before_stimulus'), ['gold', 'lightskyblue']):\n",
    "    plots.psychometric_plot(i[1], x = 'total_evidence_strength', y = 'first_choice_numeric', valueType='continue',\n",
    "                            line_kwargs={'color': linecolor,\n",
    "                                         'label': 'Left_previous' if i[0] == 'left' else 'Right_previous'}, \n",
    "                            point_kwargs={'color': 'black', 'label': None},\n",
    "                            ax=ax[0])\n",
    "    \n",
    "for i, linecolor in zip(df_test_auditory[df_test_auditory['previous_correct_numeric'] == 1].groupby('previous_port_before_stimulus'), ['gold', 'lightskyblue']):\n",
    "    plots.psychometric_plot(i[1], x = 'total_evidence_strength', y = 'first_choice_numeric', valueType='continue',\n",
    "                            line_kwargs={'color': linecolor,\n",
    "                                         'label': 'Left_previous' if i[0] == 'left' else 'Right_previous'},\n",
    "                            point_kwargs={'color': 'black', 'label': None},\n",
    "                            ax=ax[1])\n",
    "ax[0].legend()\n",
    "ax[0].set_title(\"Correct Choice Previous\")\n",
    "ax[1].legend()\n",
    "ax[1].set_title(\"Incorrect Choice Previous\")"
   ]
  },
  {
   "cell_type": "markdown",
   "metadata": {},
   "source": [
    "# Matrix format"
   ]
  },
  {
   "cell_type": "code",
   "execution_count": null,
   "metadata": {},
   "outputs": [],
   "source": [
    "# let's use the absolute value of the lowest visual stimulus as a proxy for the brightness of the visual stimulus\n",
    "df_test_visual['visual_stimulus_lowest'] = df_test_visual['visual_stimulus'].apply(lambda x: abs(eval(x)[0]) if eval(x)[0] < eval(x)[1] else abs(eval(x)[1]))\n",
    "# visual stimulus ratio to only two decimal places\n",
    "df_test_visual['visual_stimulus_ratio'] = df_test_visual['visual_stimulus_ratio'].apply(lambda x: round(x, 2))\n",
    "# create 10 bins for the absolute value of the lowest visual stimulus\n",
    "min_value = df_test_visual['visual_stimulus_lowest'].min()\n",
    "max_value = df_test_visual['visual_stimulus_lowest'].max()\n",
    "bins = np.linspace(min_value, max_value, 5)\n",
    "df_test_visual['visual_stimulus_lowest_binned'] = pd.cut(df_test_visual['visual_stimulus_lowest'], bins=bins, labels=[f\"{b:.2f}\" for b in bins[:-1]])\n",
    "# create a pivot table with the visual stimulus ratio and absolute value of the lowest visual stimulus\n",
    "pivot_table_abs = df_test_visual.pivot_table(\n",
    "    index='visual_stimulus_lowest_binned',\n",
    "    columns='visual_stimulus_ratio',\n",
    "    values='first_choice_numeric',\n",
    "    aggfunc='mean',\n",
    "    observed=True\n",
    ")\n",
    "# plot the heatmap\n",
    "plt.figure(figsize=(5, 3))\n",
    "sns.heatmap(pivot_table_abs, cmap='coolwarm', annot=True, fmt=\".2f\", cbar_kws={'label': 'Probability of Left Choice'}, vmin=0, vmax=1, annot_kws={\"color\": \"black\"})\n",
    "plt.xlabel(\"Evidence to the left (in luminance ratio)\")\n",
    "plt.ylabel(\"Absolute Value of\\nLowest Visual Stimulus\")\n",
    "# plt.title(\"Heatmap of Probability of Left Choice\")\n",
    "# rotate the y-axis labels\n",
    "plt.yticks(rotation=0)\n",
    "plt.xticks(rotation=45, ha='right')\n",
    "# save in Desktop\n",
    "# plt.savefig('/home/hmv/lab/heatmap_visual_stimulus.pdf', bbox_inches='tight')\n",
    "plt.show()"
   ]
  },
  {
   "cell_type": "code",
   "execution_count": null,
   "metadata": {},
   "outputs": [],
   "source": [
    "# transform visual_stimulus_lowest_binned to a numeric value for plotting\n",
    "df_test_visual['visual_stimulus_lowest_binned_num'] = pd.to_numeric(df_test_visual['visual_stimulus_lowest_binned'], errors='coerce')\n",
    "\n",
    "# make two plots, one for when the animals comes from the left and one for when it comes from the right\n",
    "fig, axs = plt.subplots(1, 2, figsize=(12, 5), sharey=True)\n",
    "# Plot for when the animal comes from the left\n",
    "for ax, side in zip(axs.ravel(), ['left', 'right']):\n",
    "    df_side = df_test_visual[df_test_visual['previous_port_before_stimulus'] == side]\n",
    "    for i in df_side.groupby('visual_stimulus_ratio'):\n",
    "        df_i = i[1].sort_values(by='visual_stimulus_lowest_binned_num')\n",
    "        # drop nan\n",
    "        df_i = df_i.dropna(subset=['visual_stimulus_lowest_binned_num'])\n",
    "        X = df_i['visual_stimulus_lowest_binned_num'].values.reshape(-1, 1)\n",
    "        y = df_i['first_choice_numeric'].values.astype(int)\n",
    "        model = LogisticRegression()\n",
    "        model.fit(X, y)\n",
    "        y_pred = model.predict(X)\n",
    "        y_prob = model.predict_proba(X)[:, 1]\n",
    "        ax.plot(X, y_prob, label=f\"Visual Stimulus ratio: {i[0]}\")\n",
    "    ax.set_xlabel(\"Absolute Value of Lowest Visual Stimulus\")\n",
    "    ax.set_ylabel(\"Probability of Left Choice\")\n",
    "    ax.legend()\n",
    "    ax.set_title(f\"Last Choice Before Stimulus: {side.capitalize()}\")\n",
    "plt.show()"
   ]
  },
  {
   "cell_type": "markdown",
   "metadata": {},
   "source": [
    "# compare the model"
   ]
  },
  {
   "cell_type": "markdown",
   "metadata": {},
   "source": [
    "## find the optimal parameters of time kernel"
   ]
  },
  {
   "cell_type": "code",
   "execution_count": null,
   "metadata": {},
   "outputs": [],
   "source": [
    "comb_dict = utils.verify_params_time_kernel(dic = df_dic_hard_vis, y='first_choice_numeric')\n",
    "sorted_items = sorted(comb_dict.items(), key=lambda item: abs(item[1]), reverse=True)\n",
    "sorted_items[:5]"
   ]
  },
  {
   "cell_type": "code",
   "execution_count": null,
   "metadata": {},
   "outputs": [],
   "source": [
    "comb_dict_vis_correct = utils.verify_params_time_kernel(dic = df_dic_hard_vis, y='correct_numeric', max_lag_range=range(1,100), tau_range=range(1,2))\n",
    "sorted_items_vis_correct = sorted(comb_dict_vis_correct.items(), key=lambda item: abs(item[1]), reverse=True)\n",
    "sorted_items_vis_correct[:5]"
   ]
  },
  {
   "cell_type": "code",
   "execution_count": null,
   "metadata": {},
   "outputs": [],
   "source": [
    "comb_dict = utils.verify_params_time_kernel(dic = df_dic_hard_aud, y='first_choice_numeric')\n",
    "sorted_items = sorted(comb_dict.items(), key=lambda item: abs(item[1]), reverse=True)\n",
    "sorted_items[:5]"
   ]
  },
  {
   "cell_type": "code",
   "execution_count": null,
   "metadata": {},
   "outputs": [],
   "source": [
    "comb_dict_aud_correct = utils.verify_params_time_kernel(dic = df_dic_hard_aud, y='correct_numeric', max_lag_range=range(1,100), tau_range=range(1,2))\n",
    "sorted_items_aud_correct = sorted(comb_dict_aud_correct.items(), key=lambda item: abs(item[1]), reverse=True)\n",
    "sorted_items_aud_correct[:5]"
   ]
  },
  {
   "cell_type": "code",
   "execution_count": null,
   "metadata": {},
   "outputs": [],
   "source": [
    "x_vis, y_vis = zip(*sorted(comb_dict_vis_correct.items()))\n",
    "x_aud, y_aud = zip(*sorted(comb_dict_aud_correct.items()))\n",
    "\n",
    "x_peak_vis = max(comb_dict_vis_correct, key=comb_dict_vis_correct.get)\n",
    "y_peak_vis = comb_dict_vis_correct[x_peak_vis]\n",
    "\n",
    "x_peak_aud = max(comb_dict_aud_correct, key=comb_dict_aud_correct.get)\n",
    "y_peak_aud = comb_dict_aud_correct[x_peak_aud]\n",
    "\n",
    "plt.figure(figsize=(7,5))\n",
    "plt.plot([x[0] for x in x_vis], y_vis, color=\"#D4361D\", label='Visual', linewidth=2)\n",
    "plt.scatter(x_peak_vis[0], y_peak_vis, color='#D4361D', s=50, zorder=3)\n",
    "\n",
    "plt.plot([x[0] for x in x_aud], y_aud, color=\"#875215\", label='Auditory', linewidth=2)\n",
    "plt.scatter(x_peak_aud[0], y_peak_aud, color='#875215', s=50, zorder=3)\n",
    "\n",
    "plt.xlabel('max_lag', fontsize=12)\n",
    "plt.ylabel('fitting_beta', fontsize=12)\n",
    "plt.title('Effect of Max Lag on Fitted β in Correct-Choice Model', fontsize=14)\n",
    "plt.legend()\n",
    "plt.tight_layout()\n",
    "plt.show()"
   ]
  },
  {
   "cell_type": "code",
   "execution_count": null,
   "metadata": {},
   "outputs": [],
   "source": [
    "max_lag_vis_correct = x_peak_vis[0]\n",
    "max_lag_aud_correct = x_peak_aud[0]\n",
    "\n",
    "df_test_visual = pd.DataFrame()\n",
    "for mouse in df_dic_hard_vis:\n",
    "    df_dic_hard_vis[mouse] = dft.get_time_kernel_impact(df_dic_hard_vis[mouse], y='correct_numeric', max_lag=max_lag_vis_correct, tau=1)\n",
    "    df_test_visual = pd.concat([df_test_visual, df_dic_hard_vis[mouse]], ignore_index=True)\n",
    "\n",
    "df_test_auditory = pd.DataFrame()\n",
    "for mouse in df_dic_hard_aud:\n",
    "    df_dic_hard_aud[mouse] = dft.get_time_kernel_impact(df_dic_hard_aud[mouse], y='correct_numeric', max_lag=max_lag_aud_correct, tau=1)\n",
    "    df_test_auditory = pd.concat([df_test_auditory, df_dic_hard_aud[mouse]], ignore_index=True)"
   ]
  },
  {
   "cell_type": "markdown",
   "metadata": {},
   "source": [
    "## filter the correlated values"
   ]
  },
  {
   "cell_type": "code",
   "execution_count": null,
   "metadata": {},
   "outputs": [],
   "source": [
    "X = ['visual_stimulus_ratio',\n",
    "    'visual_ratio_diff_interact',\n",
    "    'visual_ratio_bright_interact', \n",
    "    'previous_left_choice_correct_numeric',\n",
    "    'previous_right_choice_wrong_numeric',\n",
    "    'previous_first_choice_numeric', \n",
    "    'previous_last_choice_numeric', \n",
    "    'previous_port_before_stimulus_numeric',\n",
    "    'left_bright'\n",
    "    ]\n",
    "corr_mat_list, norm_contribution_df = utils.filter_variables_for_model(dic_fit=df_dic_hard_vis, X = X, y='first_choice_numeric')\n",
    "plots.plot_filter_model_variables(corr_mat_list=corr_mat_list, norm_contribution_df=norm_contribution_df)"
   ]
  },
  {
   "cell_type": "code",
   "execution_count": null,
   "metadata": {},
   "outputs": [],
   "source": [
    "X = ['visual_stimulus_ratio',\n",
    "    # 'visual_ratio_diff_interact',\n",
    "    # 'visual_ratio_bright_interact', \n",
    "    'previous_left_choice_correct_numeric',\n",
    "    'previous_right_choice_wrong_numeric',\n",
    "    # 'previous_first_choice_numeric', \n",
    "    # 'previous_last_choice_numeric', \n",
    "    'previous_port_before_stimulus_numeric',\n",
    "    'left_bright'\n",
    "    ]\n",
    "plots.plot_model_vars_params_compare(dic_fit=df_dic_hard_vis, X=X, y='first_choice_numeric')"
   ]
  },
  {
   "cell_type": "code",
   "execution_count": null,
   "metadata": {},
   "outputs": [],
   "source": [
    "X = ['abs_visual_stimulus_ratio',\n",
    "    'wrong_bright', \n",
    "    'previous_same_choice_correct_numeric', \n",
    "    'previous_same_choice_numeric', \n",
    "    'previous_correct_numeric', \n",
    "    'previous_port_before_stimulus_numeric', \n",
    "    'previous_first_choice_numeric', \n",
    "    'previous_last_choice_numeric', \n",
    "    'time_kernel_impact_correct'\n",
    "        ]\n",
    "corr_mat_list, norm_contribution_df = utils.filter_variables_for_model(dic_fit=df_dic_hard_vis, X = X, y='correct_numeric', max_lag=max_lag_vis_correct, tau=1)\n",
    "plots.plot_filter_model_variables(corr_mat_list=corr_mat_list, norm_contribution_df=norm_contribution_df)"
   ]
  },
  {
   "cell_type": "code",
   "execution_count": null,
   "metadata": {},
   "outputs": [],
   "source": [
    "X = ['abs_visual_stimulus_ratio',\n",
    "    'wrong_bright', \n",
    "    'previous_same_choice_correct_numeric', \n",
    "    'previous_same_choice_numeric', \n",
    "    'previous_correct_numeric', \n",
    "    # 'previous_port_before_stimulus_numeric', \n",
    "    # 'previous_first_choice_numeric', \n",
    "    # 'previous_last_choice_numeric', \n",
    "    'time_kernel_impact_correct'\n",
    "        ]\n",
    "plots.plot_model_vars_params_compare(dic_fit=df_dic_hard_vis, X=X, y='correct_numeric')"
   ]
  },
  {
   "cell_type": "code",
   "execution_count": null,
   "metadata": {},
   "outputs": [],
   "source": [
    "X = ['total_percentage_of_tones_left',\n",
    "    'number_of_tones_left',\n",
    "    'percentage_of_timebins_with_evidence_left', \n",
    "    'total_evidence_strength', \n",
    "    'left_tones_amplitude_sum',\n",
    "    'amplitude_strength_left_right',\n",
    "    'previous_port_before_stimulus_numeric',\n",
    "    'previous_left_choice_correct_numeric',\n",
    "    'previous_right_choice_wrong_numeric',\n",
    "    'previous_first_choice_numeric', \n",
    "    'previous_last_choice_numeric'\n",
    "    ]\n",
    "corr_mat_list, norm_contribution_df = utils.filter_variables_for_model(dic_fit=df_dic_hard_aud, X = X, y='first_choice_numeric')\n",
    "plots.plot_filter_model_variables(corr_mat_list=corr_mat_list, norm_contribution_df=norm_contribution_df)"
   ]
  },
  {
   "cell_type": "code",
   "execution_count": null,
   "metadata": {},
   "outputs": [],
   "source": [
    "X = [\n",
    "    # 'total_percentage_of_tones_left',\n",
    "    # 'number_of_tones_left',\n",
    "    # 'percentage_of_timebins_with_evidence_left', \n",
    "    'total_evidence_strength', \n",
    "    'left_tones_amplitude_sum',\n",
    "    'amplitude_strength_left_right',\n",
    "    'previous_port_before_stimulus_numeric',\n",
    "    # 'previous_left_choice_correct_numeric',\n",
    "    'previous_right_choice_wrong_numeric',\n",
    "    # 'previous_first_choice_numeric', \n",
    "    'previous_last_choice_numeric'\n",
    "    ]\n",
    "plots.plot_model_vars_params_compare(dic_fit=df_dic_hard_aud, X=X, y='first_choice_numeric')"
   ]
  },
  {
   "cell_type": "code",
   "execution_count": null,
   "metadata": {},
   "outputs": [],
   "source": [
    "X = ['total_percentage_of_tones_high',\n",
    "    'number_of_tones_high',\n",
    "    'percentage_of_timebins_with_evidence_high', \n",
    "    'abs_total_evidence_strength', \n",
    "    'high_tones_amplitude_sum',\n",
    "    'amplitude_strength',\n",
    "    'previous_same_choice_correct_numeric', \n",
    "    'previous_same_choice_numeric', \n",
    "    'previous_correct_numeric', \n",
    "    'previous_port_before_stimulus_numeric', \n",
    "    'time_kernel_impact_correct'\n",
    "    ]\n",
    "corr_mat_list, norm_contribution_df = utils.filter_variables_for_model(dic_fit=df_dic_hard_aud, X = X, y='correct_numeric', max_lag=max_lag_aud_correct, tau=1)\n",
    "plots.plot_filter_model_variables(corr_mat_list=corr_mat_list, norm_contribution_df=norm_contribution_df)"
   ]
  },
  {
   "cell_type": "code",
   "execution_count": null,
   "metadata": {},
   "outputs": [],
   "source": [
    "X = [\n",
    "    # 'total_percentage_of_tones_high',\n",
    "    # 'number_of_tones_high',\n",
    "    'percentage_of_timebins_with_evidence_high', \n",
    "    'abs_total_evidence_strength', \n",
    "    # 'high_tones_amplitude_sum',\n",
    "    'amplitude_strength',\n",
    "    'previous_same_choice_correct_numeric', \n",
    "    'previous_same_choice_numeric', \n",
    "    # 'previous_correct_numeric', \n",
    "    'previous_port_before_stimulus_numeric', \n",
    "    'time_kernel_impact_correct'\n",
    "    ]\n",
    "plots.plot_model_vars_params_compare(dic_fit=df_dic_hard_aud, X=X, y='correct_numeric')"
   ]
  },
  {
   "cell_type": "markdown",
   "metadata": {},
   "source": [
    "I kept what you did for comparison here"
   ]
  },
  {
   "cell_type": "code",
   "execution_count": null,
   "metadata": {},
   "outputs": [],
   "source": [
    "# It is interesting to compare the effects of the relative difference between the two visual stimuli,\n",
    "# and the absolute difference between them.\n",
    "\n",
    "# Maybe what we can do is to train another logistic regression model, adding as well the absolute difference\n",
    "# between the two visual stimuli, and see how it affects the probability of a left choice.\n",
    "# Do you know what I mean?\n",
    "\n",
    "for i in df_test.groupby('visual_stimulus_ratio'):\n",
    "    df_i = i[1].sort_values(by='visual_stimulus_diff')\n",
    "    X = df_i['visual_stimulus_diff'].values.reshape(-1, 1)\n",
    "    y = df_i['left_choice'].values.astype(int)\n",
    "    model = LogisticRegression()\n",
    "    model.fit(X, y)\n",
    "    y_pred = model.predict(X)\n",
    "    y_prob = model.predict_proba(X)[:, 1]\n",
    "    plt.plot(X, y_prob, label=f\"Visual Stimulus ratio: {i[0]}\")\n",
    "    plt.legend()\n",
    "plt.xlabel(\"Visual Stimulus Difference\")\n",
    "plt.ylabel(\"Probability of Left Choice\")\n",
    "plt.show()"
   ]
  },
  {
   "cell_type": "markdown",
   "metadata": {},
   "source": [
    "# change with time"
   ]
  },
  {
   "cell_type": "code",
   "execution_count": null,
   "metadata": {},
   "outputs": [],
   "source": [
    "fig, ax = plt.subplots(2, 5, figsize=(20, 10))\n",
    "for df_name, df, n in zip(df_dic_hard_vis.keys(), df_dic_hard_vis.values(), range(len(df_dic_hard_vis))):\n",
    "    row = n // 5\n",
    "    col = n % 5\n",
    "    for session, color in zip(df['session'].unique(), sns.color_palette(\"crest\", len(df['session'].unique()))):\n",
    "        df_session = df[df['session'] == session]\n",
    "        plots.psychometric_plot(df_session, x='visual_stimulus_ratio', y='first_choice_numeric',ax=ax[row, col], point_kwargs={'color': color, 'label' : ''}, line_kwargs={'color': color, 'label': ''})\n",
    "    ax[row, col].set_title(f\"Psychometric Curve for {df_name}\")\n",
    "plt.tight_layout()\n",
    "# Add a colorbar to indicate the session\n",
    "cbar = plt.colorbar(plt.cm.ScalarMappable(cmap=sns.color_palette(\"crest\", as_cmap=True)), orientation='horizontal', ax=ax, shrink=0.3)\n",
    "cbar.set_ticks([])\n",
    "cbar.set_label('before → after')\n",
    "plt.legend()\n",
    "plt.show()"
   ]
  },
  {
   "cell_type": "code",
   "execution_count": null,
   "metadata": {},
   "outputs": [],
   "source": [
    "def plot_model_param_evolution(\n",
    "    df_dic: dict,\n",
    "    x_col: str,\n",
    "    y_col: str,\n",
    "    block_size: int = 1000,\n",
    "    title: str = \"Model parameter evolution over trial blocks\",\n",
    "    figsize: tuple = (14, 4),\n",
    "    palette: str = \"colorblind\"\n",
    "):\n",
    "    fig, ax = plt.subplots(1, 4, figsize=figsize)\n",
    "    colors = sns.color_palette(palette, len(df_dic))\n",
    "\n",
    "    lapse_left_dict, lapse_right_dict, slope_dict, bias_dict = {}, {}, {}, {}\n",
    "\n",
    "    for (df_name, df), color in zip(df_dic.items(), colors):\n",
    "        df = df.copy()\n",
    "        df[\"trial_group\"] = np.arange(len(df)) // block_size\n",
    "\n",
    "        lapse_left, lapse_right, slope, bias = [], [], [], []\n",
    "\n",
    "        for group in df[\"trial_group\"].unique():\n",
    "            df_group = df[df[\"trial_group\"] == group]\n",
    "            _, params = utils.fit_lapse_logistic_independent(df_group[x_col], df_group[y_col])\n",
    "            lapse_left.append(params[0])\n",
    "            lapse_right.append(params[1])\n",
    "            slope.append(params[2])\n",
    "            bias.append(params[3])\n",
    "\n",
    "        lapse_left_dict[df_name] = lapse_left\n",
    "        lapse_right_dict[df_name] = lapse_right\n",
    "        slope_dict[df_name] = slope\n",
    "        bias_dict[df_name] = bias\n",
    "\n",
    "        for a, param, name in zip(ax, [lapse_left, lapse_right, slope, bias],\n",
    "                                  [\"Lapse Left\", \"Lapse Right\", \"Beta\", \"X0\"]):\n",
    "            a.plot(param, c=color, alpha=0.5)\n",
    "            a.set_ylabel(name)\n",
    "\n",
    "    lapse_left_df = pd.DataFrame({k: pd.Series(v) for k, v in lapse_left_dict.items()})\n",
    "    lapse_right_df = pd.DataFrame({k: pd.Series(v) for k, v in lapse_right_dict.items()})\n",
    "    slope_df = pd.DataFrame({k: pd.Series(v) for k, v in slope_dict.items()})\n",
    "    bias_df = pd.DataFrame({k: pd.Series(v) for k, v in bias_dict.items()})\n",
    "\n",
    "    for a, df, name in zip(ax,\n",
    "                           [lapse_left_df, lapse_right_df, slope_df, bias_df],\n",
    "                           [\"Lapse Left\", \"Lapse Right\", \"Beta\", \"X0\"]):\n",
    "        a.plot(df.mean(axis=1), color=\"k\", linestyle=\"-\", label=\"Overall Mean\")\n",
    "        a.set_xlabel(f\"{block_size}-Trial Blocks\")\n",
    "        a.legend(frameon=False)\n",
    "        a.set_title(name)\n",
    "\n",
    "    plt.suptitle(title, fontsize=14)\n",
    "    plt.tight_layout()\n",
    "    plt.show()\n"
   ]
  },
  {
   "cell_type": "code",
   "execution_count": null,
   "metadata": {},
   "outputs": [],
   "source": [
    "plot_model_param_evolution(\n",
    "    df_dic=df_dic_hard_vis,\n",
    "    x_col=\"visual_stimulus_ratio\",\n",
    "    y_col=\"first_choice_numeric\",\n",
    "    title=\"Visual Left Choice Model parameter change over 1000-trial blocks\"\n",
    ")\n"
   ]
  },
  {
   "cell_type": "code",
   "execution_count": null,
   "metadata": {},
   "outputs": [],
   "source": [
    "plot_model_param_evolution(\n",
    "    df_dic=df_dic_hard_vis,\n",
    "    x_col=\"abs_visual_stimulus_ratio\",\n",
    "    y_col=\"correct_numeric\",\n",
    "    title=\"Visual Correct Choice Model parameter change over 1000-trial blocks\"\n",
    ")"
   ]
  },
  {
   "cell_type": "code",
   "execution_count": null,
   "metadata": {},
   "outputs": [],
   "source": [
    "plot_model_param_evolution(\n",
    "    df_dic=df_dic_hard_aud,\n",
    "    x_col=\"total_evidence_strength\",\n",
    "    y_col=\"first_choice_numeric\",\n",
    "    title=\"Auditory Left Choice Model parameter change over 1000-trial blocks\"\n",
    ")"
   ]
  },
  {
   "cell_type": "code",
   "execution_count": null,
   "metadata": {},
   "outputs": [],
   "source": [
    "plot_model_param_evolution(\n",
    "    df_dic=df_dic_hard_aud,\n",
    "    x_col=\"abs_total_evidence_strength\",\n",
    "    y_col=\"correct_numeric\",\n",
    "    title=\"Auditory Correct Choice Model parameter change over 1000-trial blocks\"\n",
    ")"
   ]
  },
  {
   "cell_type": "markdown",
   "metadata": {},
   "source": [
    "# timebin evidence of auditory task"
   ]
  },
  {
   "cell_type": "code",
   "execution_count": null,
   "metadata": {},
   "outputs": [],
   "source": [
    "sound_properties_for_cot_mat = {\n",
    "    \"duration\": .5,\n",
    "    \"high_amplitude_mean\": 70,\n",
    "    \"low_amplitude_mean\": 70,\n",
    "    \"amplitude_std\": 2,\n",
    "    \"subduration\": 0.03,\n",
    "    \"suboverlap\": 0.01,\n",
    "    \"ambiguous_beginning_time\": 0.05,\n",
    "}"
   ]
  },
  {
   "cell_type": "code",
   "execution_count": null,
   "metadata": {},
   "outputs": [],
   "source": [
    "# auditory stimuli plot\n",
    "aud_stim_sample = df_dic_hard_aud['ACV001']['auditory_stimulus'][67103]\n",
    "high_mat = pd.DataFrame(eval(aud_stim_sample)['high_tones'])[::-1]\n",
    "low_mat = pd.DataFrame(eval(aud_stim_sample)['low_tones'])[::-1]\n",
    "\n",
    "colors = [(1, 1, 1), (0.2, 0.6, 0.2)]  # White to seagreen\n",
    "n_bins = 100  # Discretize the interpolation into bins\n",
    "cmap_name = 'white_to_seagreen'\n",
    "cmap = LinearSegmentedColormap.from_list(cmap_name, colors, N=n_bins)\n",
    "plt.figure(figsize=(10, 3))\n",
    "mat_to_plot = pd.concat([high_mat[::-1], low_mat[::-1]])\n",
    "sns.heatmap(mat_to_plot,\n",
    "            cmap=cmap,\n",
    "            vmin=sound_properties_for_cot_mat[\"low_amplitude_mean\"] * .8,\n",
    "            vmax=sound_properties_for_cot_mat[\"high_amplitude_mean\"] * 1.2,\n",
    "            cbar_kws={'label': 'Amplitude (dB)'})\n",
    "plt.hlines(6, 0, high_mat.shape[1], colors='gray', linestyles='dashed')\n",
    "plt.xlabel(\"Time (ms)\")\n",
    "plt.ylabel(\"Frequency (Hz)\")\n",
    "plt.title(\"Cloud of Tones\")\n",
    "plt.show()"
   ]
  },
  {
   "cell_type": "code",
   "execution_count": null,
   "metadata": {},
   "outputs": [],
   "source": [
    "timebin_evidence_df = pd.DataFrame()\n",
    "for df_name, df, color in zip(df_dic_hard_aud.keys(), df_dic_hard_aud.values(), sns.color_palette(\"colorblind\", len(df_dic_hard_aud))):\n",
    "    X = np.array([utils.get_timebin_evidence(eval(t)) for t in df['auditory_stimulus']])\n",
    "    y = df['first_choice_numeric']\n",
    "    X_model = sm.add_constant(X) \n",
    "    glm = sm.Logit(y, X_model).fit()\n",
    "    timebin_evidence_df[df_name] = glm.params[1:]"
   ]
  },
  {
   "cell_type": "code",
   "execution_count": null,
   "metadata": {},
   "outputs": [],
   "source": [
    "fig = plt.figure(figsize=(12, 5))\n",
    "timebin_evidence_df.index = range(len(timebin_evidence_df))\n",
    "for df_name, col, color in zip(timebin_evidence_df.columns, timebin_evidence_df, sns.color_palette(\"colorblind\", len(timebin_evidence_df))):\n",
    "    plt.plot(timebin_evidence_df[col], color=color, linestyle='--', alpha=0.7)\n",
    "plt.plot(timebin_evidence_df.mean(axis=1), color='black', label='Mean Coefficient', linewidth=2)\n",
    "plt.xlabel(\"Time Bin\")\n",
    "plt.ylabel(\"Coefficient\")\n",
    "plt.title(\"Time Bin Evidence Coefficients for Left Choice\")\n",
    "plt.legend()"
   ]
  },
  {
   "cell_type": "code",
   "execution_count": null,
   "metadata": {},
   "outputs": [],
   "source": [
    "timebin_evidence_df = pd.DataFrame()\n",
    "for df_name, df, color in zip(df_dic_hard_aud.keys(), df_dic_hard_aud.values(), sns.color_palette(\"colorblind\", len(df_dic_hard_aud))):\n",
    "    X = np.abs(np.array([utils.get_timebin_evidence(eval(t)) for t in df['auditory_stimulus']]))\n",
    "    y = df['correct_numeric']\n",
    "    X_model = sm.add_constant(X) \n",
    "    glm = sm.Logit(y, X_model).fit()\n",
    "    timebin_evidence_df[df_name] = glm.params[1:]"
   ]
  },
  {
   "cell_type": "code",
   "execution_count": null,
   "metadata": {},
   "outputs": [],
   "source": [
    "fig = plt.figure(figsize=(12, 5))\n",
    "timebin_evidence_df.index = range(len(timebin_evidence_df))\n",
    "for df_name, col, color in zip(timebin_evidence_df.columns, timebin_evidence_df, sns.color_palette(\"colorblind\", len(timebin_evidence_df))):\n",
    "    plt.plot(timebin_evidence_df[col], color=color, linestyle='--', alpha=0.7)\n",
    "plt.plot(timebin_evidence_df.mean(axis=1), color='black', label='Mean Coefficient', linewidth=2)\n",
    "plt.xlabel(\"Time Bin\")\n",
    "plt.ylabel(\"Coefficient\")\n",
    "plt.title(\"Time Bin Evidence Coefficients for Correct Choice\")\n",
    "plt.legend()"
   ]
  }
 ],
 "metadata": {
  "kernelspec": {
   "display_name": "kudongdong",
   "language": "python",
   "name": "python3"
  },
  "language_info": {
   "codemirror_mode": {
    "name": "ipython",
    "version": 3
   },
   "file_extension": ".py",
   "mimetype": "text/x-python",
   "name": "python",
   "nbconvert_exporter": "python",
   "pygments_lexer": "ipython3",
   "version": "3.10.4"
  }
 },
 "nbformat": 4,
 "nbformat_minor": 2
}
