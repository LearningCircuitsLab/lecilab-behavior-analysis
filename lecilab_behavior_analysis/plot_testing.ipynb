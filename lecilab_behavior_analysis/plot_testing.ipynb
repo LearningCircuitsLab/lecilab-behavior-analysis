{
 "cells": [
  {
   "cell_type": "code",
   "execution_count": null,
   "metadata": {},
   "outputs": [],
   "source": [
    "import pandas as pd\n",
    "import lecilab_behavior_analysis.utils as utils\n",
    "from pathlib import Path\n",
    "%load_ext autoreload\n",
    "%autoreload 2\n"
   ]
  },
  {
   "cell_type": "code",
   "execution_count": null,
   "metadata": {},
   "outputs": [],
   "source": [
    "# mouse = \"mouse2\"\n",
    "# df = utils.load_example_data(mouse)"
   ]
  },
  {
   "cell_type": "code",
   "execution_count": null,
   "metadata": {},
   "outputs": [],
   "source": [
    "# load data from cluster\n",
    "tv_projects = utils.get_server_projects()\n",
    "print(tv_projects)\n"
   ]
  },
  {
   "cell_type": "code",
   "execution_count": null,
   "metadata": {},
   "outputs": [],
   "source": [
    "\n",
    "# see the available animals\n",
    "animals = utils.get_animals_in_project(tv_projects[1])\n",
    "print(animals)"
   ]
  },
  {
   "cell_type": "code",
   "execution_count": null,
   "metadata": {},
   "outputs": [],
   "source": [
    "# download the data for a specific animal\n",
    "mouse = \"ACV007\"\n",
    "local_path = Path(utils.get_outpath()) / Path(tv_projects[1]) / Path(\"sessions\") / Path(mouse)\n",
    "# create the directory if it doesn't exist\n",
    "local_path.mkdir(parents=True, exist_ok=True)\n",
    "# download the session data\n",
    "utils.rsync_session_data(\n",
    "    project_name=tv_projects[1],\n",
    "    animal=mouse,\n",
    "    local_path=str(local_path),\n",
    "    credentials=utils.get_idibaps_cluster_credentials(),\n",
    ")"
   ]
  },
  {
   "cell_type": "code",
   "execution_count": null,
   "metadata": {},
   "outputs": [],
   "source": [
    "# load the data\n",
    "df = pd.read_csv(local_path / Path(f'{mouse}.csv'), sep=\";\")"
   ]
  },
  {
   "cell_type": "code",
   "execution_count": null,
   "metadata": {},
   "outputs": [],
   "source": [
    "import lecilab_behavior_analysis.plots as plots\n",
    "import lecilab_behavior_analysis.df_transforms as dft\n",
    "df = dft.fill_missing_data(df)\n",
    "\n",
    "# add a column with the date for the day\n",
    "df = dft.add_day_column_to_df(df)\n",
    "\n",
    "# create a figure with 1 axis for the calendar plot\n",
    "import matplotlib.pyplot as plt\n",
    "fig, ax_cal = plt.subplots(figsize=(10, 5), dpi=300)\n",
    "# generate the calendar plot\n",
    "dates_df = dft.get_dates_df(df)\n",
    "cal_image = plots.rasterize_plot(plots.training_calendar_plot(dates_df), dpi=300)\n",
    "# paste the calendar plot filling the entire axis\n",
    "ax_cal.imshow(cal_image)\n",
    "ax_cal.axis(\"off\")\n",
    "\n",
    "plt.show()"
   ]
  },
  {
   "cell_type": "code",
   "execution_count": null,
   "metadata": {},
   "outputs": [],
   "source": [
    "from lecilab_behavior_analysis.figure_maker import subject_progress_figure\n",
    "fig = subject_progress_figure(df, perf_window=100, summary_matrix_plot=False)"
   ]
  },
  {
   "cell_type": "code",
   "execution_count": null,
   "metadata": {},
   "outputs": [],
   "source": [
    "from lecilab_behavior_analysis.figure_maker import session_summary_figure\n",
    "from lecilab_behavior_analysis.df_transforms import add_trial_of_day_column_to_df, add_day_column_to_df\n",
    "# select the session you want to plot\n",
    "date = \"2025-05-06\"\n",
    "df = add_day_column_to_df(df)\n",
    "df = add_trial_of_day_column_to_df(df)\n",
    "sdf = df[df[\"year_month_day\"] == date]\n",
    "fig = session_summary_figure(sdf, mouse, perf_window=15, width=10, height=5)"
   ]
  },
  {
   "cell_type": "code",
   "execution_count": null,
   "metadata": {},
   "outputs": [],
   "source": [
    "df.date.astype('datetime64[ns]').dt.strftime(\"%Y-%m-%d\").head(10)"
   ]
  },
  {
   "cell_type": "code",
   "execution_count": null,
   "metadata": {},
   "outputs": [],
   "source": [
    "import numpy as np\n",
    "import matplotlib.pyplot as plt\n",
    "import scipy\n",
    "from scipy.optimize import curve_fit\n",
    "import df_transforms as dft\n",
    "from sklearn.linear_model import LogisticRegression\n",
    "import seaborn as sns"
   ]
  },
  {
   "cell_type": "code",
   "execution_count": null,
   "metadata": {},
   "outputs": [],
   "source": [
    "df_test = df.dropna(subset = ['visual_stimulus'])"
   ]
  },
  {
   "cell_type": "code",
   "execution_count": null,
   "metadata": {},
   "outputs": [],
   "source": [
    "# reduce the dataset to the psychometric version of the task\n",
    "# Otherwise, we would include a lot of \"easy\" trials that would bias the fit\n",
    "df_test = df_test[df_test[\"current_training_stage\"] == \"TwoAFC_visual_hard\"]"
   ]
  },
  {
   "cell_type": "code",
   "execution_count": null,
   "metadata": {},
   "outputs": [],
   "source": [
    "df_test['visual_stimulus_devi'] = df_test['visual_stimulus'].apply(lambda x: abs(round(eval(x)[0] / eval(x)[1], 4)))\n",
    "# This was good in order to make the fit work for both left and right choices!\n",
    "df_test['visual_stimulus_devi'] = df_test.apply(\n",
    "    lambda row: row['visual_stimulus_devi'] if row['correct_side'] == 'left' else -row['visual_stimulus_devi'],\n",
    "    axis=1\n",
    ")\n",
    "df_test['visual_stimulus_diff'] = df_test['visual_stimulus'].apply(lambda x: abs(eval(x)[0] - eval(x)[1]))\n",
    "df_test['visual_stimulus_diff'] = df_test.apply(\n",
    "    lambda row: row['visual_stimulus_diff'] if row['correct_side'] == 'left' else -row['visual_stimulus_diff'],\n",
    "    axis=1\n",
    ")\n",
    "# !!!!! This introduces a bug!! What would happen on the trials where the mouse has to go right? Which value would be used then?\n",
    "df_test['left_choice'] = np.where((df_test['correct_side'] == 'left') & (df_test['correct'] == True), 1, 0)\n",
    "\n",
    "# What you want is a value that goes from 0 to 1, indicating the probability of a left choice.\n",
    "# For this fits, we really don't care about the correct side, we just want to know if the mouse chose left or right.\n",
    "\n",
    "# I realized that the way I was plotting this before was using the performance of the mouse and the trials difficulty,\n",
    "# in order to infer back the probability of a left choice. But we can actually use something simpler and less confusing:\n",
    "\n",
    "# I had already created a function in the df_transforms module, to get the first choice of a mouse so we can use it here\n",
    "df_test = dft.add_mouse_first_choice(df_test)\n",
    "# This creates the column \"first_choice\" that indicates \"left\" or \"right\" for each trial.\n",
    "\n",
    "# Now we can transform this to 0 and 1, where 0 is right and 1 is left\n",
    "df_test['left_choice_new'] = df_test['first_choice'].apply(lambda x: 1 if x == 'left' else 0)\n",
    "\n",
    "# By the way I am naming columns weirdly, just so you can play around with the different solutions and see how they work.\n",
    "# Once we have what we need, we should clean up the code and use more meaningful names."
   ]
  },
  {
   "cell_type": "code",
   "execution_count": null,
   "metadata": {},
   "outputs": [],
   "source": [
    "df_test_sorted = df_test.sort_values(by='visual_stimulus_diff')\n",
    "X = df_test_sorted['visual_stimulus_diff'].values.reshape(-1, 1)\n",
    "y = df_test_sorted['left_choice'].values.astype(int)\n",
    "model = LogisticRegression()\n",
    "model.fit(X, y)\n",
    "y_pred = model.predict(X)\n",
    "y_prob = model.predict_proba(X)[:, 1]\n",
    "plt.plot(X, y_prob)\n",
    "plt.xlabel(\"Visual Stimulus Difference\")\n",
    "plt.ylabel(\"Probability of Left Choice\")"
   ]
  },
  {
   "cell_type": "code",
   "execution_count": null,
   "metadata": {},
   "outputs": [],
   "source": [
    "# Now we can fit the data and visualize the results\n",
    "X = df_test['visual_stimulus_devi'].values.reshape(-1, 1)\n",
    "y = df_test['left_choice_new'].values.astype(int)\n",
    "model = LogisticRegression()\n",
    "model.fit(X, y)\n",
    "\n",
    "# Now we have a model that predicts the probability of a left choice based on ANY visual stimulus deviation (xs).\n",
    "# For plotting, we can generate a range of values for the visual stimulus deviation\n",
    "import numpy as np\n",
    "xs = np.linspace(df_test['visual_stimulus_devi'].min(), df_test['visual_stimulus_devi'].max(), 100).reshape(-1, 1)\n",
    "y_prob = model.predict_proba(xs)[:, 1]\n",
    "\n",
    "# Plot the actual choices of the mouse\n",
    "fig, ax = plt.subplots(figsize=(5, 5))\n",
    "sns.pointplot(\n",
    "    x='visual_stimulus_devi',\n",
    "    y='left_choice_new',\n",
    "    data=df_test,\n",
    "    estimator=lambda x: np.mean(x),\n",
    "    color='blue',\n",
    "    markers='o',\n",
    "    errorbar=(\"ci\", 95),\n",
    "    ax=ax,\n",
    "    label='Observed Choices',\n",
    "    native_scale= True,\n",
    "    linestyles='',\n",
    ")\n",
    "\n",
    "# overlay the fitted logistic regression curve\n",
    "ax.plot(xs, y_prob, color='red', label='Logistic Regression Fit')\n",
    "ax.set_xlabel(\"Visual Stimulus Deviation\")\n",
    "ax.set_ylabel(\"Probability of Left Choice\")\n",
    "plt.title(\"Psychometric Curve\")\n",
    "plt.legend()\n",
    "plt.show()\n",
    "\n"
   ]
  },
  {
   "cell_type": "code",
   "execution_count": null,
   "metadata": {},
   "outputs": [],
   "source": [
    "# It is interesting to compare the effects of the relative difference between the two visual stimuli,\n",
    "# and the absolute difference between them.\n",
    "\n",
    "# Maybe what we can do is to train another logistic regression model, adding as well the absolute difference\n",
    "# between the two visual stimuli, and see how it affects the probability of a left choice.\n",
    "# Do you know what I mean?\n",
    "\n",
    "for i in df_test.groupby('visual_stimulus_devi'):\n",
    "    df_i = i[1].sort_values(by='visual_stimulus_diff')\n",
    "    X = df_i['visual_stimulus_diff'].values.reshape(-1, 1)\n",
    "    y = df_i['left_choice'].values.astype(int)\n",
    "    model = LogisticRegression()\n",
    "    model.fit(X, y)\n",
    "    y_pred = model.predict(X)\n",
    "    y_prob = model.predict_proba(X)[:, 1]\n",
    "    plt.plot(X, y_prob, label=f\"Visual Stimulus Deviation: {i[0]}\")\n",
    "    plt.legend()\n",
    "plt.xlabel(\"Visual Stimulus Difference\")\n",
    "plt.ylabel(\"Probability of Left Choice\")"
   ]
  },
  {
   "cell_type": "code",
   "execution_count": null,
   "metadata": {},
   "outputs": [],
   "source": []
  },
  {
   "cell_type": "code",
   "execution_count": null,
   "metadata": {},
   "outputs": [],
   "source": []
  }
 ],
 "metadata": {
  "kernelspec": {
   "display_name": "dev",
   "language": "python",
   "name": "python3"
  },
  "language_info": {
   "codemirror_mode": {
    "name": "ipython",
    "version": 3
   },
   "file_extension": ".py",
   "mimetype": "text/x-python",
   "name": "python",
   "nbconvert_exporter": "python",
   "pygments_lexer": "ipython3",
   "version": "3.12.2"
  }
 },
 "nbformat": 4,
 "nbformat_minor": 2
}
