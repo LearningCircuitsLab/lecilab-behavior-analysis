{
 "cells": [
  {
   "cell_type": "code",
   "execution_count": null,
   "metadata": {},
   "outputs": [],
   "source": [
    "import pandas as pd\n",
    "import lecilab_behavior_analysis.utils as utils\n",
    "from pathlib import Path\n",
    "%load_ext autoreload\n",
    "%autoreload 2\n"
   ]
  },
  {
   "cell_type": "code",
   "execution_count": null,
   "metadata": {},
   "outputs": [],
   "source": [
    "# mouse = \"mouse2\"\n",
    "# df = utils.load_example_data(mouse)"
   ]
  },
  {
   "cell_type": "code",
   "execution_count": null,
   "metadata": {},
   "outputs": [],
   "source": [
    "# load data from cluster\n",
    "tv_projects = utils.get_server_projects()\n",
    "print(tv_projects)"
   ]
  },
  {
   "cell_type": "code",
   "execution_count": null,
   "metadata": {},
   "outputs": [],
   "source": [
    "# see the available animals\n",
    "animals = utils.get_animals_in_project(tv_projects[1])\n",
    "print(animals)"
   ]
  },
  {
   "cell_type": "code",
   "execution_count": null,
   "metadata": {},
   "outputs": [],
   "source": [
    "# download the data for a specific animal\n",
    "\n",
    "# mouse = \"mouse2\"\n",
    "# df = utils.load_example_data(mouse)\n",
    "\n",
    "mouse = \"ACV008\"\n",
    "local_path = Path(utils.get_outpath()) / Path(tv_projects[1]) / Path(\"sessions\") / Path(mouse)\n",
    "# create the directory if it doesn't exist\n",
    "local_path.mkdir(parents=True, exist_ok=True)\n",
    "# download the session data\n",
    "utils.rsync_session_data(\n",
    "    project_name=tv_projects[1],\n",
    "    animal=mouse,\n",
    "    local_path=str(local_path),\n",
    "    credentials=utils.get_idibaps_cluster_credentials(),\n",
    ")"
   ]
  },
  {
   "cell_type": "code",
   "execution_count": null,
   "metadata": {},
   "outputs": [],
   "source": [
    "# load the data\n",
    "df = pd.read_csv(local_path / Path(f'{mouse}.csv'), sep=\";\")"
   ]
  },
  {
   "cell_type": "code",
   "execution_count": null,
   "metadata": {},
   "outputs": [],
   "source": [
    "from lecilab_behavior_analysis.figure_maker import subject_progress_figure\n",
    "fig = subject_progress_figure(df, perf_window=100, summary_matrix_plot=False)"
   ]
  },
  {
   "cell_type": "code",
   "execution_count": null,
   "metadata": {},
   "outputs": [],
   "source": [
    "import lecilab_behavior_analysis.df_transforms as dft\n",
    "import lecilab_behavior_analysis.plots as plots\n",
    "df_ch = dft.get_center_hold_df(dft.analyze_df(df))\n",
    "plots.plot_mean_and_cis_by_date(df_ch, item_to_show=\"number_of_pokes\", group_trials_by=\"year_month_day\", color='tab:green')\n",
    "plots.plot_mean_and_cis_by_date(df_ch, item_to_show=\"hold_time\", group_trials_by=\"year_month_day\", color='tab:red')"
   ]
  },
  {
   "cell_type": "code",
   "execution_count": null,
   "metadata": {},
   "outputs": [],
   "source": [
    "from lecilab_behavior_analysis.df_transforms import add_trial_of_day_column_to_df, add_day_column_to_df\n",
    "import matplotlib.pyplot as plt\n",
    "\n",
    "df = add_day_column_to_df(df)\n",
    "df = add_trial_of_day_column_to_df(df)\n",
    "\n",
    "tdf = df[df[\"year_month_day\"] == \"2025-06-21\"]\n",
    "\n",
    "tdf[\"port2_holds\"] = tdf.apply(lambda row: utils.get_trial_port_hold(row, 2), axis=1)\n",
    "fig, axs = plt.subplots(2, 1, figsize=(10, 5))\n",
    "ax1 = plots.plot_number_of_pokes_histogram(tdf, port_number=2, ax=axs[0])\n",
    "ax2 = plots.plot_port_holding_time_histogram(tdf, port_number=2, ax=axs[1])\n",
    "\n",
    "plt.show()"
   ]
  },
  {
   "cell_type": "code",
   "execution_count": null,
   "metadata": {},
   "outputs": [],
   "source": [
    "# # load the data if cluster is down\n",
    "# mouse_path = utils.get_outpath() + \"/visual_and_COT_data/sessions/ACV008/ACV008.csv\"\n",
    "# df = pd.read_csv(mouse_path, sep=\";\")"
   ]
  },
  {
   "cell_type": "code",
   "execution_count": null,
   "metadata": {},
   "outputs": [],
   "source": [
    "from lecilab_behavior_analysis.figure_maker import session_summary_figure\n",
    "from lecilab_behavior_analysis.df_transforms import add_trial_of_day_column_to_df, add_day_column_to_df\n",
    "# select the session you want to plot\n",
    "date = \"2025-06-26\"\n",
    "df = add_day_column_to_df(df)\n",
    "df = add_trial_of_day_column_to_df(df)\n",
    "sdf = df[df[\"year_month_day\"] == date]\n",
    "fig = session_summary_figure(sdf, perf_window=50, width=15, height=10)"
   ]
  },
  {
   "cell_type": "code",
   "execution_count": null,
   "metadata": {},
   "outputs": [],
   "source": [
    "import lecilab_behavior_analysis.plots as plots\n",
    "import lecilab_behavior_analysis.df_transforms as dft\n",
    "import matplotlib.pyplot as plt\n",
    "import numpy as np\n",
    "sdf[\"total_trial\"] = np.arange(1, sdf.shape[0] + 1)\n",
    "# find the index of the session changes\n",
    "session_changes = sdf[sdf.session != sdf.session.shift(1)].index\n",
    "sdf = dft.calculate_time_between_trials_and_reaction_time(sdf)\n",
    "\n",
    "# test = plots.plot_time_between_trials_and_reaction_time(sdf, session_changes=session_changes)\n",
    "\n",
    "reaction_time_image = plots.rasterize_plot(plots.plot_time_between_trials_and_reaction_time(sdf, session_changes=session_changes), dpi=300)\n",
    "fig, ax = plt.subplots(figsize=(10, 5))\n",
    "ax.imshow(reaction_time_image, aspect='auto')\n",
    "plt.axis('off')\n",
    "plt.show()"
   ]
  },
  {
   "cell_type": "code",
   "execution_count": null,
   "metadata": {},
   "outputs": [],
   "source": [
    "from lecilab_behavior_analysis.plots import plot_time_between_trials_and_reaction_time\n",
    "from lecilab_behavior_analysis.df_transforms import calculate_time_between_trials_and_reaction_time\n",
    "session = 28\n",
    "sdf = df[df[\"session\"] == session]\n",
    "ssdf = calculate_time_between_trials_and_reaction_time(sdf)\n",
    "ssdf\n"
   ]
  },
  {
   "cell_type": "code",
   "execution_count": null,
   "metadata": {},
   "outputs": [],
   "source": [
    "ssdf.Reaction_Time.plot(kind=\"hist\", bins=100)"
   ]
  },
  {
   "cell_type": "code",
   "execution_count": null,
   "metadata": {},
   "outputs": [],
   "source": []
  },
  {
   "cell_type": "code",
   "execution_count": null,
   "metadata": {},
   "outputs": [],
   "source": []
  }
 ],
 "metadata": {
  "kernelspec": {
   "display_name": "Python 3",
   "language": "python",
   "name": "python3"
  },
  "language_info": {
   "codemirror_mode": {
    "name": "ipython",
    "version": 3
   },
   "file_extension": ".py",
   "mimetype": "text/x-python",
   "name": "python",
   "nbconvert_exporter": "python",
   "pygments_lexer": "ipython3",
   "version": "3.12.2"
  }
 },
 "nbformat": 4,
 "nbformat_minor": 2
}
