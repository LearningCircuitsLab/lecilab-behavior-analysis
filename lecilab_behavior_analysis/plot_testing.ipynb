{
 "cells": [
  {
   "cell_type": "code",
   "execution_count": null,
   "metadata": {},
   "outputs": [],
   "source": [
    "import pandas as pd\n",
    "import lecilab_behavior_analysis.utils as utils\n",
    "from pathlib import Path\n",
    "%load_ext autoreload\n",
    "%autoreload 2"
   ]
  },
  {
   "cell_type": "code",
   "execution_count": null,
   "metadata": {},
   "outputs": [],
   "source": [
    "# mouse = \"mouse2\"\n",
    "# df = utils.load_example_data(mouse)"
   ]
  },
  {
   "cell_type": "code",
   "execution_count": null,
   "metadata": {},
   "outputs": [],
   "source": [
    "# load data from cluster\n",
    "tv_projects = utils.get_server_projects()\n",
    "print(tv_projects)"
   ]
  },
  {
   "cell_type": "code",
   "execution_count": null,
   "metadata": {},
   "outputs": [],
   "source": [
    "# see the available animals\n",
    "animals = utils.get_animals_in_project(tv_projects[1])\n",
    "print(animals)"
   ]
  },
  {
   "cell_type": "code",
   "execution_count": null,
   "metadata": {},
   "outputs": [],
   "source": [
    "# download the data for a specific animal\n",
    "\n",
    "# mouse = \"mouse2\"\n",
    "# df = utils.load_example_data(mouse)\n",
    "\n",
    "mouse = \"ACV001\"\n",
    "local_path = Path(utils.get_outpath()) / Path(tv_projects[1]) / Path(\"sessions\") / Path(mouse)\n",
    "# create the directory if it doesn't exist\n",
    "local_path.mkdir(parents=True, exist_ok=True)\n",
    "# download the session data\n",
    "utils.rsync_cluster_data(\n",
    "    project_name=tv_projects[1],\n",
    "    file_path=\"sessions/{}/{}.csv\".format(mouse, mouse),\n",
    "    local_path=str(local_path),\n",
    "    credentials=utils.get_idibaps_cluster_credentials(),\n",
    ")"
   ]
  },
  {
   "cell_type": "code",
   "execution_count": null,
   "metadata": {},
   "outputs": [],
   "source": [
    "# load the data\n",
    "df = pd.read_csv(local_path / Path(f'{mouse}.csv'), sep=\";\")"
   ]
  },
  {
   "cell_type": "code",
   "execution_count": null,
   "metadata": {},
   "outputs": [],
   "source": [
    "# # engagement analysis\n",
    "# from lecilab_behavior_analysis import df_transforms as dft\n",
    "# df = dft.add_trial_duration_column_to_df(df)\n",
    "# df = dft.add_engagement_column(df, engagement_sd_criteria=2)\n",
    "# # load events\n",
    "# events_df = utils.load_all_events(project_name=tv_projects[1])\n",
    "# sbu_df = dft.get_box_usage_df(df, events_df)\n",
    "# sbu_df = dft.add_day_column_to_df(sbu_df)"
   ]
  },
  {
   "cell_type": "code",
   "execution_count": null,
   "metadata": {},
   "outputs": [],
   "source": [
    "# from lecilab_behavior_analysis import plots\n",
    "# plots.plot_box_usage_by_date(sbu_df)"
   ]
  },
  {
   "cell_type": "code",
   "execution_count": null,
   "metadata": {},
   "outputs": [],
   "source": [
    "from lecilab_behavior_analysis.figure_maker import subject_progress_figure\n",
    "# sync and load events\n",
    "for file in [\"old_events\", \"events.csv\"]:\n",
    "    utils.rsync_cluster_data(\n",
    "        project_name=tv_projects[1],\n",
    "        file_path=file,\n",
    "        local_path=str(local_path),\n",
    "        credentials=utils.get_idibaps_cluster_credentials(),\n",
    "    )\n",
    "events_df = utils.load_all_events(project_name=tv_projects[1])"
   ]
  },
  {
   "cell_type": "code",
   "execution_count": null,
   "metadata": {},
   "outputs": [],
   "source": [
    "fig = subject_progress_figure(df.head(10000), perf_window=100, summary_matrix_plot=False, events_df=events_df)"
   ]
  },
  {
   "cell_type": "code",
   "execution_count": null,
   "metadata": {},
   "outputs": [],
   "source": [
    "# # load the data if cluster is down\n",
    "# mouse_path = utils.get_outpath() + \"/visual_and_COT_data/sessions/ACV008/ACV008.csv\"\n",
    "# df = pd.read_csv(mouse_path, sep=\";\")"
   ]
  },
  {
   "cell_type": "code",
   "execution_count": null,
   "metadata": {},
   "outputs": [],
   "source": [
    "from lecilab_behavior_analysis.figure_maker import session_summary_figure\n",
    "from lecilab_behavior_analysis.df_transforms import add_trial_of_day_column_to_df, add_day_column_to_df\n",
    "import numpy as np\n",
    "# select the session you want to plot\n",
    "date = \"2025-07-24\"\n",
    "# df = analyze_df(df)\n",
    "df = add_day_column_to_df(df)\n",
    "df = add_trial_of_day_column_to_df(df)\n",
    "df['total_trial'] = np.arange(1, df.shape[0] + 1)\n",
    "sdf = df[df[\"year_month_day\"] == date]\n",
    "# sdf = df[df[\"current_training_stage\"] == \"TwoAFC_auditory_hard\"]\n",
    "fig = session_summary_figure(sdf, perf_window=50, width=15, height=10)"
   ]
  },
  {
   "cell_type": "code",
   "execution_count": null,
   "metadata": {},
   "outputs": [],
   "source": [
    "from lecilab_behavior_analysis import df_transforms as dft\n",
    "from lecilab_behavior_analysis import utils\n",
    "sdf = utils.add_time_from_session_start(sdf)"
   ]
  },
  {
   "cell_type": "code",
   "execution_count": null,
   "metadata": {},
   "outputs": [],
   "source": [
    "sdf[sdf.session != sdf.session.shift(1)].index"
   ]
  },
  {
   "cell_type": "code",
   "execution_count": null,
   "metadata": {},
   "outputs": [],
   "source": [
    "sdf = dft.adjust_trials_and_time_of_start_to_first_session(sdf)"
   ]
  },
  {
   "cell_type": "code",
   "execution_count": null,
   "metadata": {},
   "outputs": [],
   "source": [
    "from lecilab_behavior_analysis import plots\n",
    "# find the index of the session changes\n",
    "session_changes = sdf[sdf.session != sdf.session.shift(1)].index\n",
    "plots.plot_trial_time_of_start(sdf, session_changes=session_changes, width=15, height=10)"
   ]
  },
  {
   "cell_type": "code",
   "execution_count": null,
   "metadata": {},
   "outputs": [],
   "source": []
  }
 ],
 "metadata": {
  "kernelspec": {
   "display_name": "dev",
   "language": "python",
   "name": "python3"
  },
  "language_info": {
   "codemirror_mode": {
    "name": "ipython",
    "version": 3
   },
   "file_extension": ".py",
   "mimetype": "text/x-python",
   "name": "python",
   "nbconvert_exporter": "python",
   "pygments_lexer": "ipython3",
   "version": "3.12.2"
  }
 },
 "nbformat": 4,
 "nbformat_minor": 2
}
