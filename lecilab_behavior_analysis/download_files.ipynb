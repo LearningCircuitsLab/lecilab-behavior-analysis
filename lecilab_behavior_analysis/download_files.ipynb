{
 "cells": [
  {
   "cell_type": "code",
   "execution_count": null,
   "id": "0",
   "metadata": {},
   "outputs": [],
   "source": [
    "import pandas as pd\n",
    "import lecilab_behavior_analysis.utils as utils\n",
    "from pathlib import Path\n",
    "import subprocess\n",
    "from datetime import datetime"
   ]
  },
  {
   "cell_type": "code",
   "execution_count": null,
   "id": "1",
   "metadata": {},
   "outputs": [],
   "source": [
    "credentials = utils.get_idibaps_cluster_credentials()\n",
    "IDIBAPS_TV_PROJECTS = \"/archive/training_village/\"\n",
    "tv_projects = utils.get_server_projects()\n",
    "project_name = tv_projects[1]\n",
    "animal = 'ACV002'\n",
    "remote_base = f\"{IDIBAPS_TV_PROJECTS}{project_name}/videos/{animal}/\"\n",
    "utils.get_folders_from_server(credentials, remote_base)"
   ]
  },
  {
   "cell_type": "code",
   "execution_count": null,
   "id": "2",
   "metadata": {},
   "outputs": [],
   "source": [
    "def download_session_data(date: str, animal: str):\n",
    "    # 基础设置\n",
    "    tv_projects = utils.get_server_projects()\n",
    "    project_name = tv_projects[1]\n",
    "    credentials = utils.get_idibaps_cluster_credentials()\n",
    "    IDIBAPS_TV_PROJECTS = \"/archive/training_village/\"\n",
    "    \n",
    "    # 创建保存路径\n",
    "    local_path = Path(utils.get_outpath()) / project_name / \"videos\" / animal\n",
    "    local_path.mkdir(parents=True, exist_ok=True)\n",
    "    \n",
    "    # 构建远程路径基础部分\n",
    "    remote_base = f\"{IDIBAPS_TV_PROJECTS}{project_name}/videos/{animal}/\"\n",
    "    files = utils.get_folders_from_server(credentials, remote_base)\n",
    "    if files:\n",
    "        # 过滤出指定日期的文件\n",
    "        target_files = [f for f in files if date in f]\n",
    "        \n",
    "        if not target_files:\n",
    "            pass\n",
    "        else:\n",
    "            for file in target_files:\n",
    "                remote_path = f\"{credentials['username']}@{credentials['host']}:{remote_base}{file}\"\n",
    "                rsync_command = f\"rsync -avz {remote_path} {local_path}\"\n",
    "                result = subprocess.run(rsync_command, shell=True)\n",
    "                if result.returncode == 0:\n",
    "                    print(f\"Successfully downloaded {file}\")\n",
    "                else:\n",
    "                    print(f\"Failed to download {file}\")\n",
    "    else:\n",
    "        print(\"No files found in remote directory\")\n"
   ]
  },
  {
   "cell_type": "code",
   "execution_count": null,
   "id": "3",
   "metadata": {},
   "outputs": [],
   "source": [
    "\n",
    "# 使用示例（日期格式：YYYYMMDD）\n",
    "download_session_data(date=\"20250725\", animal=\"ACV002\")"
   ]
  },
  {
   "cell_type": "code",
   "execution_count": null,
   "id": "4",
   "metadata": {},
   "outputs": [],
   "source": []
  }
 ],
 "metadata": {
  "kernelspec": {
   "display_name": "kudongdong",
   "language": "python",
   "name": "python3"
  },
  "language_info": {
   "codemirror_mode": {
    "name": "ipython",
    "version": 3
   },
   "file_extension": ".py",
   "mimetype": "text/x-python",
   "name": "python",
   "nbconvert_exporter": "python",
   "pygments_lexer": "ipython3",
   "version": "3.10.4"
  }
 },
 "nbformat": 4,
 "nbformat_minor": 5
}
