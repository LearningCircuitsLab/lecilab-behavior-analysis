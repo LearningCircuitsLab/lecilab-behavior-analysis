{
 "cells": [
  {
   "cell_type": "code",
   "execution_count": null,
   "id": "0",
   "metadata": {},
   "outputs": [],
   "source": [
    "import lecilab_behavior_analysis.utils as utils\n",
    "import pandas as pd\n",
    "import numpy as np\n",
    "import yaml\n",
    "import plotly.express as px\n",
    "import plotly.graph_objects as go"
   ]
  },
  {
   "cell_type": "code",
   "execution_count": null,
   "id": "1",
   "metadata": {},
   "outputs": [],
   "source": [
    "credential=utils.get_idibaps_cluster_credentials()\n"
   ]
  },
  {
   "cell_type": "code",
   "execution_count": null,
   "id": "2",
   "metadata": {},
   "outputs": [],
   "source": [
    "parent_path = \"/home/kudongdong/data/behavior_DLC/\"\n",
    "behavior_files = utils.get_folders_from_server(credentials=credential, path=parent_path)\n",
    "remote_path = parent_path + behavior_files[0]\n",
    "local_path=\"/home/kudongdong/data/LeciLab/behavioral_data/visual_and_COT_data/DLC_test_data/\""
   ]
  },
  {
   "cell_type": "code",
   "execution_count": null,
   "id": "3",
   "metadata": {},
   "outputs": [],
   "source": [
    "parent_path = \"/home/kudongdong/data/behavior_DLC/\"\n",
    "behavior_files = utils.get_folders_from_server(credentials=credential, path=parent_path)\n",
    "behav_df_dic = {}\n",
    "for f in behavior_files:\n",
    "    if f.endswith(\".csv\"):\n",
    "        utils.rsync_specific_file(credentials=credential, \n",
    "                                 file_path=parent_path + f, \n",
    "                                 local_path=local_path)\n",
    "        random_df = pd.read_csv(local_path + f, header=[1, 2])\n",
    "        behav_df_dic[f[:32]] = random_df"
   ]
  },
  {
   "cell_type": "code",
   "execution_count": null,
   "id": "4",
   "metadata": {},
   "outputs": [],
   "source": [
    "behav_df_name_list = []\n",
    "for behav_df_name in behav_df_dic:\n",
    "    behav_df_dic[behav_df_name].set_index(('bodyparts','coords'), inplace=True)\n",
    "    behav_df_name_list.append(behav_df_name)\n"
   ]
  },
  {
   "cell_type": "code",
   "execution_count": null,
   "id": "5",
   "metadata": {},
   "outputs": [],
   "source": [
    "for behav_df_name in behav_df_dic:\n",
    "    behav_df = behav_df_dic[behav_df_name]\n",
    "    for col1 in behav_df.columns.get_level_values(0).unique().tolist():\n",
    "        behav_df_2 = behav_df[col1]\n",
    "        behav_df_2.loc[behav_df_2[\"likelihood\"] < 0.7, [\"x\", \"y\"]] = None\n",
    "        behav_df[col1] = behav_df_2\n",
    "    behav_df_dic[behav_df_name] = behav_df"
   ]
  },
  {
   "cell_type": "code",
   "execution_count": null,
   "id": "6",
   "metadata": {},
   "outputs": [],
   "source": [
    "remote_config_path = \"/home/kudongdong/DLC_projects/TrainingVillage001-LeciLab-2025-09-04/config.yaml\"\n",
    "utils.rsync_specific_file(credentials=credential, \n",
    "                                 file_path=remote_config_path, \n",
    "                                 local_path=local_path)"
   ]
  },
  {
   "cell_type": "code",
   "execution_count": null,
   "id": "7",
   "metadata": {},
   "outputs": [],
   "source": [
    "behav_test = behav_df_dic[behav_df_name_list[0]][89900:]"
   ]
  },
  {
   "cell_type": "code",
   "execution_count": null,
   "id": "8",
   "metadata": {},
   "outputs": [],
   "source": [
    "bodyparts = behav_test.columns.get_level_values(0).unique().tolist()\n",
    "\n",
    "config_path = local_path+\"config.yaml\"\n",
    "with open(config_path, \"r\") as f:\n",
    "    config = yaml.safe_load(f)\n",
    "skeleton_raw = config[\"skeleton\"]\n",
    "skeleton = [tuple(pair) for pair in skeleton_raw]"
   ]
  },
  {
   "cell_type": "code",
   "execution_count": null,
   "id": "9",
   "metadata": {},
   "outputs": [],
   "source": [
    "keypoints_test = {}\n",
    "for bp in bodyparts:\n",
    "    keypoints_test[bp] = pd.DataFrame({\"x\": behav_test[bp]['x'], \"y\": behav_test[bp]['y']})"
   ]
  },
  {
   "cell_type": "code",
   "execution_count": null,
   "id": "10",
   "metadata": {},
   "outputs": [],
   "source": [
    "behav_play_test = pd.DataFrame([])\n",
    "for bp in bodyparts:\n",
    "    behav_keypoint = behav_test[bp].copy()\n",
    "    behav_keypoint['bodypart'] = bp\n",
    "    behav_play_test = pd.concat([behav_play_test, behav_keypoint])"
   ]
  },
  {
   "cell_type": "code",
   "execution_count": null,
   "id": "11",
   "metadata": {},
   "outputs": [],
   "source": [
    "x_range = [0, 640]\n",
    "y_range = [0, 480]"
   ]
  },
  {
   "cell_type": "code",
   "execution_count": null,
   "id": "12",
   "metadata": {},
   "outputs": [],
   "source": [
    "fig = go.Figure(\n",
    "    layout=go.Layout(\n",
    "        xaxis=dict(range=x_range, autorange=False),\n",
    "        yaxis=dict(range=y_range, autorange=False, scaleanchor=\"x\"),\n",
    "        width=640, height=480,\n",
    "        plot_bgcolor=\"white\",\n",
    "        paper_bgcolor=\"white\",\n",
    "            )\n",
    ")\n",
    "\n",
    "# Define colors for bodyparts and skeleton\n",
    "bp_palette = px.colors.sequential.Teal  \n",
    "bp_colors = {bp: bp_palette[i % len(bp_palette)] for i, bp in enumerate(bodyparts)}\n",
    "skeleton_palette = px.colors.sequential.Blugrn  \n",
    "skeleton_colors = {f\"{bp1}-{bp2}\": skeleton_palette[i % len(skeleton_palette)] for i, (bp1, bp2) in enumerate(skeleton)}\n",
    "\n",
    "# first frame must define all points and lines, or nothing is loaded\n",
    "frame0 = {bp: (keypoints_test[bp]['x'].values[0], keypoints_test[bp]['y'].values[0]) for bp in bodyparts}\n",
    "# bodyparts\n",
    "for bp in bodyparts:\n",
    "    fig.add_trace(go.Scatter(\n",
    "        x=None,\n",
    "        y=None,\n",
    "        mode=\"markers\",\n",
    "        marker=dict(size=8, color=bp_colors[bp]),\n",
    "        name=bp\n",
    "))\n",
    "\n",
    "# skeleton lines\n",
    "for bp1, bp2 in skeleton:\n",
    "    fig.add_trace(go.Scatter(\n",
    "        x=[None, None],\n",
    "        y=[None, None],\n",
    "        mode=\"lines\",\n",
    "        line=dict(color=skeleton_colors[f\"{bp1}-{bp2}\"]),\n",
    "        name=f\"{bp1}-{bp2}\"\n",
    "    ))\n",
    "\n",
    "# animation frames use none values for missing keypoints and lines, or they will be flashing\n",
    "frames = []\n",
    "for t in range(len(behav_test)):\n",
    "    frame_data = []\n",
    "    # skeleton lines\n",
    "    for bp1, bp2 in skeleton:\n",
    "        if (not np.isnan(keypoints_test[bp1]['x'].values[t]) \n",
    "            and not np.isnan(keypoints_test[bp2]['x'].values[t])\n",
    "            and not np.isnan(keypoints_test[bp1]['y'].values[t])\n",
    "            and not np.isnan(keypoints_test[bp2]['y'].values[t])):\n",
    "            frame_data.append(go.Scatter(\n",
    "                x=[keypoints_test[bp1]['x'].values[t], keypoints_test[bp2]['x'].values[t]],\n",
    "                y=[keypoints_test[bp1]['y'].values[t], keypoints_test[bp2]['y'].values[t]],\n",
    "                mode=\"lines\",\n",
    "                line=dict(color=skeleton_colors[f\"{bp1}-{bp2}\"]),\n",
    "                name=f\"{bp1}-{bp2}\",\n",
    "        ))\n",
    "        else:\n",
    "            frame_data.append(go.Scatter(\n",
    "                x=[None, None],\n",
    "                y=[None, None],\n",
    "                mode=\"lines\",\n",
    "                line=dict(color=skeleton_colors[f\"{bp1}-{bp2}\"]),\n",
    "                name=f\"{bp1}-{bp2}\",\n",
    "        ))\n",
    "    # bodyparts\n",
    "    for bp in bodyparts:\n",
    "        frame_data.append(go.Scatter(\n",
    "            x=[keypoints_test[bp]['x'].values[t] if not np.isnan(keypoints_test[bp]['x'].values[t]) else None],\n",
    "            y=[keypoints_test[bp]['y'].values[t] if not np.isnan(keypoints_test[bp]['y'].values[t]) else None],\n",
    "            mode=\"markers\",\n",
    "            marker=dict(size=8, color=bp_colors[bp]),\n",
    "            name=bp\n",
    "        ))\n",
    "    \n",
    "    frames.append(go.Frame(data=frame_data, name=str(t)))\n",
    "\n",
    "fig.frames = frames\n",
    "\n",
    "fig.update_layout(\n",
    "        updatemenus=[dict(\n",
    "            type=\"buttons\", showactive=False,\n",
    "            x=-0.05, y=-0.05, \n",
    "            buttons=[\n",
    "                dict(label=\"Play\",\n",
    "                    method=\"animate\",\n",
    "                    args=[None, {\"frame\": {\"duration\": 100, \"redraw\": True},\n",
    "                                \"fromcurrent\": True, \"mode\": \"immediate\"}]),\n",
    "                dict(label=\"Pause\",\n",
    "                    method=\"animate\",\n",
    "                    args=[[None], {\"frame\": {\"duration\": 0, \"redraw\": False},\n",
    "                                    \"mode\": \"immediate\"}])\n",
    "            ]\n",
    "        )],\n",
    "        sliders=[{\n",
    "            \"steps\": [{\"args\": [[str(k)], {\"frame\": {\"duration\": 100, \"redraw\": True},\n",
    "                                    \"mode\": \"immediate\"}],\n",
    "                \"label\": str(k), \"method\": \"animate\"}\n",
    "                for k in range(len(frames))]\n",
    "                }] \n",
    "                )\n",
    "\n",
    "fig.show()"
   ]
  }
 ],
 "metadata": {
  "kernelspec": {
   "display_name": "kudongdong",
   "language": "python",
   "name": "python3"
  },
  "language_info": {
   "codemirror_mode": {
    "name": "ipython",
    "version": 3
   },
   "file_extension": ".py",
   "mimetype": "text/x-python",
   "name": "python",
   "nbconvert_exporter": "python",
   "pygments_lexer": "ipython3",
   "version": "3.10.4"
  }
 },
 "nbformat": 4,
 "nbformat_minor": 5
}
