{
 "cells": [
  {
   "cell_type": "code",
   "execution_count": null,
   "id": "0",
   "metadata": {},
   "outputs": [],
   "source": [
    "import lecilab_behavior_analysis.utils as utils\n",
    "import pandas as pd\n",
    "import numpy as np\n",
    "import yaml\n",
    "import plotly.express as px\n",
    "import plotly.graph_objects as go\n",
    "import cv2\n",
    "import matplotlib.pyplot as plt\n",
    "import imageio\n"
   ]
  },
  {
   "cell_type": "code",
   "execution_count": null,
   "id": "1",
   "metadata": {},
   "outputs": [],
   "source": [
    "credential=utils.get_idibaps_cluster_credentials()\n"
   ]
  },
  {
   "cell_type": "code",
   "execution_count": null,
   "id": "2",
   "metadata": {},
   "outputs": [],
   "source": [
    "local_path=\"/home/kudongdong/data/LeciLab/behavioral_data/visual_and_COT_data/DLC_test_data/\""
   ]
  },
  {
   "cell_type": "code",
   "execution_count": null,
   "id": "3",
   "metadata": {},
   "outputs": [],
   "source": [
    "parent_path = \"/home/kudongdong/data/behavior_DLC/TrainingVillage001_v2-LeciLab-2025-09-25/change_params_v2/\"\n",
    "behavior_files = utils.get_folders_from_server(credentials=credential, path=parent_path)\n",
    "behav_df_dic = {}\n",
    "for f in behavior_files:\n",
    "    if f.endswith(\".csv\"):\n",
    "        utils.rsync_specific_file(credentials=credential, \n",
    "                                 file_path=parent_path + f, \n",
    "                                 local_path=local_path)\n",
    "        random_df = pd.read_csv(local_path + f, header=[1, 2])\n",
    "        behav_df_dic[f[:32]] = random_df"
   ]
  },
  {
   "cell_type": "code",
   "execution_count": null,
   "id": "4",
   "metadata": {},
   "outputs": [],
   "source": [
    "behav_df_name_list = []\n",
    "for behav_df_name in behav_df_dic:\n",
    "    behav_df_dic[behav_df_name].set_index(('bodyparts','coords'), inplace=True)\n",
    "    behav_df_name_list.append(behav_df_name)\n"
   ]
  },
  {
   "cell_type": "code",
   "execution_count": null,
   "id": "5",
   "metadata": {},
   "outputs": [],
   "source": [
    "for behav_df_name in behav_df_dic:\n",
    "    behav_df = behav_df_dic[behav_df_name]\n",
    "    for col1 in behav_df.columns.get_level_values(0).unique().tolist():\n",
    "        behav_df_2 = behav_df[col1]\n",
    "        behav_df_2.loc[behav_df_2[\"likelihood\"] < 0.6, [\"x\", \"y\"]] = None\n",
    "        behav_df[col1] = behav_df_2\n",
    "    behav_df_dic[behav_df_name] = behav_df"
   ]
  },
  {
   "cell_type": "code",
   "execution_count": null,
   "id": "6",
   "metadata": {},
   "outputs": [],
   "source": [
    "remote_config_path = \"/home/kudongdong/DLC_projects/TrainingVillage001_v2-LeciLab-2025-09-25/config.yaml\"\n",
    "utils.rsync_specific_file(credentials=credential, \n",
    "                                 file_path=remote_config_path, \n",
    "                                 local_path=local_path)"
   ]
  },
  {
   "cell_type": "code",
   "execution_count": null,
   "id": "7",
   "metadata": {},
   "outputs": [],
   "source": [
    "behav_test = behav_df_dic[behav_df_name_list[2]][:300]"
   ]
  },
  {
   "cell_type": "code",
   "execution_count": null,
   "id": "8",
   "metadata": {},
   "outputs": [],
   "source": [
    "bodyparts = behav_test.columns.get_level_values(0).unique().tolist()\n",
    "\n",
    "config_path = local_path+\"config.yaml\"\n",
    "with open(config_path, \"r\") as f:\n",
    "    config = yaml.safe_load(f)\n",
    "skeleton_raw = config[\"skeleton\"]\n",
    "skeleton = [tuple(pair) for pair in skeleton_raw]"
   ]
  },
  {
   "cell_type": "code",
   "execution_count": null,
   "id": "9",
   "metadata": {},
   "outputs": [],
   "source": [
    "keypoints_test = {}\n",
    "for bp in bodyparts:\n",
    "    keypoints_test[bp] = pd.DataFrame({\"x\": behav_test[bp]['x'], \"y\": behav_test[bp]['y']})"
   ]
  },
  {
   "cell_type": "code",
   "execution_count": null,
   "id": "10",
   "metadata": {},
   "outputs": [],
   "source": [
    "behav_play_test = pd.DataFrame([])\n",
    "for bp in bodyparts:\n",
    "    behav_keypoint = behav_test[bp].copy()\n",
    "    behav_keypoint['bodypart'] = bp\n",
    "    behav_play_test = pd.concat([behav_play_test, behav_keypoint])"
   ]
  },
  {
   "cell_type": "code",
   "execution_count": null,
   "id": "11",
   "metadata": {},
   "outputs": [],
   "source": [
    "x_range = [0, 640]\n",
    "y_range = [0, 480]"
   ]
  },
  {
   "cell_type": "markdown",
   "id": "12",
   "metadata": {},
   "source": [
    "# behavior keypoints and skeleton"
   ]
  },
  {
   "cell_type": "code",
   "execution_count": null,
   "id": "13",
   "metadata": {},
   "outputs": [],
   "source": [
    "fig = go.Figure(\n",
    "    layout=go.Layout(\n",
    "        xaxis=dict(range=x_range, autorange=False),\n",
    "        yaxis=dict(range=y_range, autorange=False, scaleanchor=\"x\"),\n",
    "        width=640, height=480,\n",
    "        plot_bgcolor=\"white\",\n",
    "        paper_bgcolor=\"white\",\n",
    "            )\n",
    ")\n",
    "\n",
    "# Define colors for bodyparts and skeleton\n",
    "bp_palette = px.colors.sequential.Teal  \n",
    "bp_colors = {bp: bp_palette[i % len(bp_palette)] for i, bp in enumerate(bodyparts)}\n",
    "skeleton_palette = px.colors.sequential.Blugrn  \n",
    "skeleton_colors = {f\"{bp1}-{bp2}\": skeleton_palette[i % len(skeleton_palette)] for i, (bp1, bp2) in enumerate(skeleton)}\n",
    "\n",
    "# first frame must define all points and lines, or nothing is loaded\n",
    "frame0 = {bp: (keypoints_test[bp]['x'].values[0], keypoints_test[bp]['y'].values[0]) for bp in bodyparts}\n",
    "# bodyparts\n",
    "for bp in bodyparts:\n",
    "    fig.add_trace(go.Scatter(\n",
    "        x=None,\n",
    "        y=None,\n",
    "        mode=\"markers\",\n",
    "        marker=dict(size=8, color=bp_colors[bp]),\n",
    "        name=bp\n",
    "))\n",
    "\n",
    "# skeleton lines\n",
    "for bp1, bp2 in skeleton:\n",
    "    fig.add_trace(go.Scatter(\n",
    "        x=[None, None],\n",
    "        y=[None, None],\n",
    "        mode=\"lines\",\n",
    "        line=dict(color=skeleton_colors[f\"{bp1}-{bp2}\"]),\n",
    "        name=f\"{bp1}-{bp2}\"\n",
    "    ))\n",
    "\n",
    "# animation frames use none values for missing keypoints and lines, or they will be flashing\n",
    "frames = []\n",
    "for t in range(len(behav_test)):\n",
    "    frame_data = []\n",
    "    # skeleton lines\n",
    "    for bp1, bp2 in skeleton:\n",
    "        if (not np.isnan(keypoints_test[bp1]['x'].values[t]) \n",
    "            and not np.isnan(keypoints_test[bp2]['x'].values[t])\n",
    "            and not np.isnan(keypoints_test[bp1]['y'].values[t])\n",
    "            and not np.isnan(keypoints_test[bp2]['y'].values[t])):\n",
    "            frame_data.append(go.Scatter(\n",
    "                x=[keypoints_test[bp1]['x'].values[t], keypoints_test[bp2]['x'].values[t]],\n",
    "                y=[keypoints_test[bp1]['y'].values[t], keypoints_test[bp2]['y'].values[t]],\n",
    "                mode=\"lines\",\n",
    "                line=dict(color=skeleton_colors[f\"{bp1}-{bp2}\"]),\n",
    "                name=f\"{bp1}-{bp2}\",\n",
    "        ))\n",
    "        else:\n",
    "            frame_data.append(go.Scatter(\n",
    "                x=[None, None],\n",
    "                y=[None, None],\n",
    "                mode=\"lines\",\n",
    "                line=dict(color=skeleton_colors[f\"{bp1}-{bp2}\"]),\n",
    "                name=f\"{bp1}-{bp2}\",\n",
    "        ))\n",
    "    # bodyparts\n",
    "    for bp in bodyparts:\n",
    "        frame_data.append(go.Scatter(\n",
    "            x=[keypoints_test[bp]['x'].values[t] if not np.isnan(keypoints_test[bp]['x'].values[t]) else None],\n",
    "            y=[keypoints_test[bp]['y'].values[t] if not np.isnan(keypoints_test[bp]['y'].values[t]) else None],\n",
    "            mode=\"markers\",\n",
    "            marker=dict(size=8, color=bp_colors[bp]),\n",
    "            name=bp\n",
    "        ))\n",
    "    \n",
    "    frames.append(go.Frame(data=frame_data, name=str(t)))\n",
    "\n",
    "fig.frames = frames\n",
    "\n",
    "fig.update_layout(\n",
    "        updatemenus=[dict(\n",
    "            type=\"buttons\", showactive=False,\n",
    "            x=-0.05, y=-0.05, \n",
    "            buttons=[\n",
    "                dict(label=\"Play\",\n",
    "                    method=\"animate\",\n",
    "                    args=[None, {\"frame\": {\"duration\": 100, \"redraw\": True},\n",
    "                                \"fromcurrent\": True, \"mode\": \"immediate\"}]),\n",
    "                dict(label=\"Pause\",\n",
    "                    method=\"animate\",\n",
    "                    args=[[None], {\"frame\": {\"duration\": 0, \"redraw\": False},\n",
    "                                    \"mode\": \"immediate\"}])\n",
    "            ]\n",
    "        )],\n",
    "        sliders=[{\n",
    "            \"steps\": [{\"args\": [[str(k)], {\"frame\": {\"duration\": 100, \"redraw\": True},\n",
    "                                    \"mode\": \"immediate\"}],\n",
    "                \"label\": str(k), \"method\": \"animate\"}\n",
    "                for k in range(len(frames))]\n",
    "                }] \n",
    "                )\n",
    "\n",
    "fig.show()"
   ]
  },
  {
   "cell_type": "code",
   "execution_count": null,
   "id": "14",
   "metadata": {},
   "outputs": [],
   "source": [
    "import plotly.io as pio\n",
    "import imageio\n",
    "\n",
    "frames = []\n",
    "for i, frame in enumerate(fig.frames):\n",
    "    # 设置当前帧\n",
    "    fig.update(data=frame.data)\n",
    "    # 保存成静态图片\n",
    "    img_path = f\"frame_{i}.png\"\n",
    "    pio.write_image(fig, img_path, format=\"png\")\n",
    "    frames.append(imageio.imread(img_path))\n",
    "\n",
    "# 合成GIF\n",
    "imageio.mimsave(\"/mnt/c/Users/90611/Desktop/animation.gif\", frames, duration=0.1)\n"
   ]
  },
  {
   "cell_type": "markdown",
   "id": "15",
   "metadata": {},
   "source": [
    "# extract frames from deeplabcut labeled videos"
   ]
  },
  {
   "cell_type": "code",
   "execution_count": null,
   "id": "16",
   "metadata": {},
   "outputs": [],
   "source": [
    "import moviepy.editor as mp\n"
   ]
  },
  {
   "cell_type": "code",
   "execution_count": null,
   "id": "17",
   "metadata": {},
   "outputs": [],
   "source": [
    "cam = cv2.VideoCapture(\"/mnt/c/Users/90611/Desktop/NUO003_TwoAFC_20251007_212020DLC_Resnet50_TrainingVillage_2AFCOct9shuffle1_snapshot_best-180_p60_labeled.mp4\")\n",
    "cam.set(cv2.CAP_PROP_POS_FRAMES,15000)\n",
    "res, frame = cam.read()\n",
    "fig = plt.figure(figsize=(32, 24))\n",
    "alpha  = 1.5\n",
    "beta = -50\n",
    "adjusted_frame = np.clip(alpha * frame + beta, 0, 255).astype(np.uint8)\n",
    "plt.imshow(np.flipud(adjusted_frame),origin=\"lower\")\n",
    "plt.xticks([])\n",
    "plt.yticks([])\n",
    "plt.show()\n",
    "# fig.savefig('/mnt/e/data/LeciLab/behavioral_data/data_test/sample_behavior_track.svg',format='svg',dpi=1200)"
   ]
  },
  {
   "cell_type": "code",
   "execution_count": null,
   "id": "18",
   "metadata": {},
   "outputs": [],
   "source": [
    "video_path = \"/mnt/c/Users/90611/Desktop/NUO003_TwoAFC_20251007_212020DLC_Resnet50_TrainingVillage_2AFCOct9shuffle1_snapshot_best-180_p60_labeled.mp4\"\n",
    "gif_path = \"/mnt/e/data/LeciLab/behavioral_data/data_test/sample_behavior_track.gif\"\n",
    "\n",
    "cap = cv2.VideoCapture(video_path)\n",
    "fps = cap.get(cv2.CAP_PROP_FPS)\n",
    "\n",
    "\n",
    "start_frame = 1000\n",
    "end_frame = 1100\n",
    "\n",
    "frames = []\n",
    "cap.set(cv2.CAP_PROP_POS_FRAMES, start_frame)\n",
    "\n",
    "gamma = 0.5  # <1 变暗，>1 变亮\n",
    "inv_gamma = 1.0 / gamma\n",
    "table = np.array([(i / 255.0) ** inv_gamma * 255 for i in range(256)]).astype(\"uint8\")\n",
    "\n",
    "for i in range(start_frame, end_frame):\n",
    "    ret, frame = cap.read()\n",
    "    if not ret:\n",
    "        break\n",
    "    # frame = cv2.cvtColor(frame, cv2.COLOR_BGR2RGB)\n",
    "    # frame = cv2.LUT(frame, table)\n",
    "    frames.append(frame)\n",
    "\n",
    "cap.release()\n",
    "\n",
    "imageio.mimsave(gif_path, frames, fps=30)"
   ]
  },
  {
   "cell_type": "code",
   "execution_count": null,
   "id": "19",
   "metadata": {},
   "outputs": [],
   "source": [
    "from moviepy import VideoFileClip"
   ]
  },
  {
   "cell_type": "code",
   "execution_count": null,
   "id": "20",
   "metadata": {},
   "outputs": [],
   "source": [
    "video_path = \"/mnt/c/Users/90611/Desktop/NUO003_TwoAFC_20251007_212020DLC_Resnet50_TrainingVillage_2AFCOct9shuffle1_snapshot_best-180_p60_labeled.mp4\"\n",
    "gif_path = \"/mnt/e/data/LeciLab/behavioral_data/data_test/sample_behavior_track.gif\"\n",
    "sample_clip = VideoFileClip(video_path)\n",
    "sample_clip = sample_clip.subclipped(60, 100)\n",
    "sample_clip.write_gif(gif_path, fps=30)\n"
   ]
  }
 ],
 "metadata": {
  "kernelspec": {
   "display_name": "kudongdong",
   "language": "python",
   "name": "python3"
  },
  "language_info": {
   "codemirror_mode": {
    "name": "ipython",
    "version": 3
   },
   "file_extension": ".py",
   "mimetype": "text/x-python",
   "name": "python",
   "nbconvert_exporter": "python",
   "pygments_lexer": "ipython3",
   "version": "3.10.4"
  }
 },
 "nbformat": 4,
 "nbformat_minor": 5
}
